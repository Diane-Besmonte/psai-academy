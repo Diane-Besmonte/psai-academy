{
  "cells": [
    {
      "cell_type": "markdown",
      "metadata": {
        "id": "KxpWDFG11o3G"
      },
      "source": [
        "# Multi-Agent Workflows + RAG - LangGraph\n",
        "\n",
        "Today we'll be looking at an example of a Multi-Agent workflow that's powered by LangGraph, LCEL, and more!\n",
        "\n",
        "We're going to be, more specifically, looking at a \"heirarchical agent teams\" from the [AutoGen: Enabling Next-Gen LLM\n",
        "Applications via Multi-Agent Conversation](https://arxiv.org/pdf/2308.08155) paper.\n",
        "\n",
        "This will be the final \"graph\" of our system:\n",
        "\n",
        "![image](https://i.imgur.com/Xro0QiR.png)\n",
        "\n",
        "It's important to keep in mind that the actual implementation will be constructed of 3 separate graphs, the final one having 2 graphs as nodes! LangGraph is a heckuva tool!\n",
        "\n"
      ]
    },
    {
      "cell_type": "markdown",
      "metadata": {
        "id": "TyzoBrWoYeOZ"
      },
      "source": [
        "# 🤝 BREAKOUT ROOM #1"
      ]
    },
    {
      "cell_type": "markdown",
      "metadata": {
        "id": "mx3oaVoX5cA2"
      },
      "source": [
        "## Dependencies"
      ]
    },
    {
      "cell_type": "markdown",
      "metadata": {
        "id": "Zpv2MWqu5vS9"
      },
      "source": [
        "Since we'll be relying on OpenAI's suite of models to power our agents today, we'll want to provide our OpenAI API Key.\n",
        "\n",
        "We're also going to be using the Tavily search tool - so we'll want to provide that API key as well!\n",
        "\n",
        "Instruction for how to obtain the Tavily API key can be found:\n",
        "\n",
        "1. [Tavily API Key](https://app.tavily.com/sign-in)\n",
        "\n"
      ]
    },
    {
      "cell_type": "code",
      "execution_count": 68,
      "metadata": {
        "colab": {
          "base_uri": "https://localhost:8080/"
        },
        "id": "h30OjkLfeR2Y",
        "outputId": "f75bb26e-b89d-4611-c29b-f339b3e868af"
      },
      "outputs": [],
      "source": [
        "import os\n",
        "import getpass\n",
        "\n",
        "os.environ[\"OPENAI_API_KEY\"] = getpass.getpass(\"OpenAI API Key:\")\n",
        "os.environ[\"TAVILY_API_KEY\"] = getpass.getpass(\"TAVILY_API_KEY\")"
      ]
    },
    {
      "cell_type": "code",
      "execution_count": 69,
      "metadata": {},
      "outputs": [],
      "source": [
        "from uuid import uuid4\n",
        "\n",
        "os.environ[\"LANGCHAIN_TRACING_V2\"] = \"true\"\n",
        "os.environ[\"LANGCHAIN_PROJECT\"] = f\"PSI Day7 - AI Bills - {uuid4().hex[0:8]}\"\n",
        "os.environ[\"LANGCHAIN_API_KEY\"] = getpass.getpass(\"LangSmith API Key: \")"
      ]
    },
    {
      "cell_type": "markdown",
      "metadata": {
        "id": "M_LD7rwT6PbO"
      },
      "source": [
        "## Task 1: Simple LangGraph RAG\n",
        "\n",
        "Now that we have our dependencies set-up - let's create a simple RAG graph that works over our Loan PDFs from previous sessions.\n",
        "\n",
        "> NOTE: While this particular example is very straight forward - you can \"plug in\" any complexity of chain you desire as a node in a LangGraph."
      ]
    },
    {
      "cell_type": "markdown",
      "metadata": {
        "id": "JY7T5kxJ6jGn"
      },
      "source": [
        "## Retrieval\n",
        "\n",
        "The 'R' in 'RAG' - this is, at this point, fairly straightforward!"
      ]
    },
    {
      "cell_type": "markdown",
      "metadata": {
        "id": "DGuPxSCk7Ztz"
      },
      "source": [
        "#### Data Collection and Processing\n",
        "\n",
        "A classic first step, at this point, let's grab our desired document!"
      ]
    },
    {
      "cell_type": "code",
      "execution_count": 70,
      "metadata": {
        "id": "LfuoEYRCln3H"
      },
      "outputs": [],
      "source": [
        "from langchain_community.document_loaders import DirectoryLoader\n",
        "from langchain_community.document_loaders import PyMuPDFLoader\n",
        "\n",
        "directory_loader = DirectoryLoader(\"bills\", glob=\"**/*.pdf\", loader_cls=PyMuPDFLoader)\n",
        "\n",
        "bill_knowledge_resources = directory_loader.load()"
      ]
    },
    {
      "cell_type": "markdown",
      "metadata": {
        "id": "r_t_F1zG6vXa"
      },
      "source": [
        "Now we can chunk it down to size!"
      ]
    },
    {
      "cell_type": "code",
      "execution_count": 71,
      "metadata": {
        "id": "5R7A_z8CgL79"
      },
      "outputs": [],
      "source": [
        "import tiktoken\n",
        "from langchain.text_splitter import RecursiveCharacterTextSplitter\n",
        "\n",
        "def tiktoken_len(text):\n",
        "    tokens = tiktoken.encoding_for_model(\"gpt-4o\").encode(\n",
        "        text,\n",
        "    )\n",
        "    return len(tokens)\n",
        "\n",
        "text_splitter = RecursiveCharacterTextSplitter(\n",
        "    chunk_size = 750,\n",
        "    chunk_overlap = 0,\n",
        "    length_function = tiktoken_len,\n",
        ")\n",
        "\n",
        "bill_knowledge_chunk = text_splitter.split_documents(bill_knowledge_resources)"
      ]
    },
    {
      "cell_type": "markdown",
      "metadata": {
        "id": "lGE-VuMc7AKv"
      },
      "source": [
        "Now we've successfully split our single PDF into..."
      ]
    },
    {
      "cell_type": "code",
      "execution_count": 72,
      "metadata": {
        "colab": {
          "base_uri": "https://localhost:8080/"
        },
        "id": "pgYBHsdWmLvW",
        "outputId": "aa9a830e-f7db-4bb3-f542-c0614cb01aca"
      },
      "outputs": [
        {
          "data": {
            "text/plain": [
              "62"
            ]
          },
          "execution_count": 72,
          "metadata": {},
          "output_type": "execute_result"
        }
      ],
      "source": [
        "len(bill_knowledge_chunk)"
      ]
    },
    {
      "cell_type": "markdown",
      "metadata": {
        "id": "lxaKmmyh7DHD"
      },
      "source": [
        "documents!"
      ]
    },
    {
      "cell_type": "markdown",
      "metadata": {
        "id": "cGWs7KTd7QPS"
      },
      "source": [
        "#### Embedding Model and Vector Store\n",
        "\n",
        "Now that we have our chunked document - lets create a vector store, which will first require us to create an embedding model to get the vector representations of our text!\n",
        "\n",
        "We'll use OpenAI's [`text-embedding-3-small`](https://platform.openai.com/docs/guides/embeddings/embedding-models) model - as it's cheap, and performant."
      ]
    },
    {
      "cell_type": "code",
      "execution_count": 73,
      "metadata": {
        "id": "xLIWMMZCmfrj"
      },
      "outputs": [],
      "source": [
        "from langchain_openai.embeddings import OpenAIEmbeddings\n",
        "\n",
        "embedding_model = OpenAIEmbeddings(model=\"text-embedding-3-small\")"
      ]
    },
    {
      "cell_type": "markdown",
      "metadata": {
        "id": "lTEi7Ww573sc"
      },
      "source": [
        "Now we can create our QDrant backed vector store!"
      ]
    },
    {
      "cell_type": "code",
      "execution_count": 74,
      "metadata": {
        "id": "Xct51f8omVAU"
      },
      "outputs": [],
      "source": [
        "from langchain_community.vectorstores import Qdrant\n",
        "\n",
        "qdrant_vectorstore = Qdrant.from_documents(\n",
        "    documents=bill_knowledge_chunk,\n",
        "    embedding=embedding_model,\n",
        "    location=\":memory:\"\n",
        ")"
      ]
    },
    {
      "cell_type": "markdown",
      "metadata": {
        "id": "wzGq6o4s79Ar"
      },
      "source": [
        "Let's make sure we can access it as a retriever."
      ]
    },
    {
      "cell_type": "code",
      "execution_count": 75,
      "metadata": {
        "id": "OTnQZbWymi4K"
      },
      "outputs": [],
      "source": [
        "qdrant_retriever = qdrant_vectorstore.as_retriever()"
      ]
    },
    {
      "cell_type": "markdown",
      "metadata": {
        "id": "aU8qSrMS7_D7"
      },
      "source": [
        "### Augmented\n",
        "\n",
        "Now that we have our retrieval process set-up, we need to set up our \"augmentation\" process - AKA a prompt template."
      ]
    },
    {
      "cell_type": "code",
      "execution_count": 76,
      "metadata": {
        "id": "lezTN0zCmk46"
      },
      "outputs": [],
      "source": [
        "from langchain_core.prompts import ChatPromptTemplate\n",
        "\n",
        "HUMAN_TEMPLATE = \"\"\"\n",
        "#CONTEXT:\n",
        "{context}\n",
        "\n",
        "QUERY:\n",
        "{query}\n",
        "\n",
        "Use the provide context to answer the provided user query. Only use the provided context to answer the query. If you do not know the answer, or it's not contained in the provided context respond with \"I don't know\"\n",
        "\"\"\"\n",
        "\n",
        "chat_prompt = ChatPromptTemplate.from_messages([\n",
        "    (\"human\", HUMAN_TEMPLATE)\n",
        "])"
      ]
    },
    {
      "cell_type": "markdown",
      "metadata": {
        "id": "Y9fa63nM7IKK"
      },
      "source": [
        "### Generation\n",
        "\n",
        "Last, but certainly not least, let's put the 'G' in 'RAG' by adding our generator - in this case, we can rely on OpenAI's [`gpt-4o-mini`](https://platform.openai.com/docs/models/gpt-4o-mini) model!"
      ]
    },
    {
      "cell_type": "code",
      "execution_count": 77,
      "metadata": {
        "id": "AwEi29-Jo3a8"
      },
      "outputs": [],
      "source": [
        "from langchain_openai import ChatOpenAI\n",
        "\n",
        "openai_chat_model = ChatOpenAI(model=\"gpt-5-mini\")"
      ]
    },
    {
      "cell_type": "markdown",
      "metadata": {
        "id": "qO-ZC0T98XJJ"
      },
      "source": [
        "### RAG - Retrieval Augmented Generation\n",
        "\n",
        "All that's left to do is combine our R, A, and G into a single graph - and we're off!"
      ]
    },
    {
      "cell_type": "code",
      "execution_count": 78,
      "metadata": {
        "id": "nlOJrPm_oT3S"
      },
      "outputs": [],
      "source": [
        "from langgraph.graph import START, StateGraph\n",
        "from typing_extensions import TypedDict\n",
        "from langchain_core.documents import Document\n",
        "from langchain_core.output_parsers import StrOutputParser\n",
        "\n",
        "class State(TypedDict):\n",
        "  question: str\n",
        "  context: list[Document]\n",
        "  response: str\n",
        "\n",
        "def retrieve(state: State) -> State:\n",
        "  retrieved_docs = qdrant_retriever.invoke(state[\"question\"])\n",
        "  return {\"context\" : retrieved_docs}\n",
        "\n",
        "def generate(state: State) -> State:\n",
        "  generator_chain = chat_prompt | openai_chat_model | StrOutputParser()\n",
        "  response = generator_chain.invoke({\"query\" : state[\"question\"], \"context\" : state[\"context\"]})\n",
        "  return {\"response\" : response}\n",
        "\n",
        "graph_builder = StateGraph(State)\n",
        "graph_builder = graph_builder.add_sequence([retrieve, generate])\n",
        "graph_builder.add_edge(START, \"retrieve\")\n",
        "rag_graph = graph_builder.compile()"
      ]
    },
    {
      "cell_type": "code",
      "execution_count": 79,
      "metadata": {},
      "outputs": [
        {
          "data": {
            "image/png": "[encoded data removed]",
            "text/plain": [
              "<langgraph.graph.state.CompiledStateGraph object at 0x000002C65ACD4810>"
            ]
          },
          "execution_count": 79,
          "metadata": {},
          "output_type": "execute_result"
        }
      ],
      "source": [
        "rag_graph"
      ]
    },
    {
      "cell_type": "markdown",
      "metadata": {
        "id": "qiWrbXpu8ggz"
      },
      "source": [
        "Let's test this out and make sure it works."
      ]
    },
    {
      "cell_type": "code",
      "execution_count": 80,
      "metadata": {
        "colab": {
          "base_uri": "https://localhost:8080/",
          "height": 122
        },
        "id": "gJhFlW32pBPe",
        "outputId": "7aee04b6-608f-4639-adca-66225d4d3002"
      },
      "outputs": [],
      "source": [
        "import json\n",
        "\n",
        "result = rag_graph.invoke({\"question\" : \"What is the best approach for AI in education?\"})\n"
      ]
    },
    {
      "cell_type": "code",
      "execution_count": 81,
      "metadata": {},
      "outputs": [],
      "source": [
        "import json, textwrap, dataclasses\n",
        "from typing import Any\n",
        "\n",
        "def pretty_print(\n",
        "    obj: Any,\n",
        "    *,\n",
        "    width: int = 100,          # target wrap width for long strings\n",
        "    indent: int = 2,           # JSON indent\n",
        "    sort_keys: bool = False,   # sort dict keys\n",
        "    max_str: int = 800,        # truncate very long strings\n",
        "    max_list: int = 200,       # cap huge lists\n",
        "    wrap_strings: bool = True, # wrap long strings\n",
        "):\n",
        "    def is_langchain_doc(o):\n",
        "        return o.__class__.__name__ == \"Document\" and hasattr(o, \"page_content\")\n",
        "\n",
        "    def to_serializable(o, _depth=0):\n",
        "        # LangChain Document → compact dict\n",
        "        if is_langchain_doc(o):\n",
        "            meta = getattr(o, \"metadata\", {}) or {}\n",
        "            # keep only commonly useful metadata keys (expand as needed)\n",
        "            keep = [\"source\", \"file_path\", \"page\", \"title\", \"author\"]\n",
        "            filtered_meta = {k: meta.get(k) for k in keep if k in meta}\n",
        "            return {\n",
        "                \"type\": \"Document\",\n",
        "                \"page_content\": o.page_content,\n",
        "                \"metadata\": filtered_meta or meta,  # fallback to all if nothing matched\n",
        "            }\n",
        "\n",
        "        # dataclasses\n",
        "        if dataclasses.is_dataclass(o):\n",
        "            return {k: to_serializable(v, _depth+1) for k, v in dataclasses.asdict(o).items()}\n",
        "\n",
        "        # NumPy / pandas scalars\n",
        "        try:\n",
        "            import numpy as np  # optional\n",
        "            if isinstance(o, (np.generic,)):\n",
        "                return o.item()\n",
        "        except Exception:\n",
        "            pass\n",
        "\n",
        "        # bytes → hex (short) or utf-8 (best effort)\n",
        "        if isinstance(o, (bytes, bytearray)):\n",
        "            try:\n",
        "                return o.decode(\"utf-8\")\n",
        "            except Exception:\n",
        "                return o[:16].hex() + (\"…hex\" if len(o) > 16 else \"\")\n",
        "\n",
        "        # primitives\n",
        "        if isinstance(o, (str, int, float, bool)) or o is None:\n",
        "            return o\n",
        "\n",
        "        # dicts\n",
        "        if isinstance(o, dict):\n",
        "            return {str(k): to_serializable(v, _depth+1) for k, v in o.items()}\n",
        "\n",
        "        # lists / tuples / sets\n",
        "        if isinstance(o, (list, tuple, set)):\n",
        "            seq = list(o)\n",
        "            if len(seq) > max_list:\n",
        "                seq = seq[:max_list] + [f\"…({len(o)-max_list} more)\"]\n",
        "            return [to_serializable(v, _depth+1) for v in seq]\n",
        "\n",
        "        # fallback: try __dict__, else string repr\n",
        "        return to_serializable(getattr(o, \"__dict__\", str(o)), _depth+1)\n",
        "\n",
        "    def transform_strings(x):\n",
        "        # truncate + wrap strings inside the structure\n",
        "        if isinstance(x, str):\n",
        "            s = x if max_str is None or len(x) <= max_str else (x[:max_str] + \"…\")\n",
        "            if wrap_strings and width:\n",
        "                s = \"\\n\".join(textwrap.wrap(s, width=width)) if \"\\n\" not in s else \\\n",
        "                    \"\\n\".join(\"\\n\".join(textwrap.wrap(line, width=width)) for line in s.splitlines())\n",
        "            return s\n",
        "        if isinstance(x, list):\n",
        "            return [transform_strings(v) for v in x]\n",
        "        if isinstance(x, dict):\n",
        "            return {k: transform_strings(v) for k, v in x.items()}\n",
        "        return x\n",
        "\n",
        "    normalized = to_serializable(obj)\n",
        "    normalized = transform_strings(normalized)\n",
        "    print(json.dumps(normalized, indent=indent, ensure_ascii=False, sort_keys=sort_keys))"
      ]
    },
    {
      "cell_type": "code",
      "execution_count": 82,
      "metadata": {},
      "outputs": [
        {
          "name": "stdout",
          "output_type": "stream",
          "text": [
            "{\n",
            "  \"context\": [\n",
            "    {\n",
            "      \"metadata\": {\n",
            "        \"author\": \"\",\n",
            "        \"file_path\": \"bills\\\\HB02186.pdf\",\n",
            "        \"page\": 3,\n",
            "        \"source\": \"bills\\\\HB02186.pdf\",\n",
            "        \"title\": \"House Bill on Integrating AI in Basic Education Curriculum (BHPL).docx\"\n",
            "      },\n",
            "      \"page_content\": \"C.​\\nTo foster creativity, problem-solving, and critical thinking skills among students\\nthrough exposure to AI tools and projects;\\n\\nD.​\\nTo promote inclusive access to AI education, especially in public schools and\\nunderserved communities; and\\n\\nE.​\\nTo establish partnerships with academic institutions, industry, and international\\norganizations to enhance curriculum content and teacher training.\\n\\nSEC. 4. SCOPE AND COVERAGE.\\n\\nThe integration of AI education shall cover all public and private elementary and\\nsecondary schools nationwide. The curriculum shall be age-appropriate and\\ncontextualized to different grade levels and learner capacities.\\n\\nSEC. 5. CURRICULUM DEVELOPMENT.\\n\\nThe Department of Education (DepEd), in coordination with the Department of Science\\nand Technology (DOST), the Commission on Higher Education (CHED), the\\nDepartment of Information and Communications Technology (DICT), and relevant\\nstakeholders, shall ensure the effective and meaningful introduction of Artificial\\nIntelligence (AI) education in the Philippine basic education system. In this regard, the\\nfollowing shall be undertaken:\\n\\nA.​\\nCurriculum and Instructional Materials Development. - …\",\n",
            "      \"type\": \"Document\"\n",
            "    },\n",
            "    {\n",
            "      \"metadata\": {\n",
            "        \"author\": \"\",\n",
            "        \"file_path\": \"bills\\\\HB02186.pdf\",\n",
            "        \"page\": 4,\n",
            "        \"source\": \"bills\\\\HB02186.pdf\",\n",
            "        \"title\": \"House Bill on Integrating AI in Basic Education Curriculum (BHPL).docx\"\n",
            "      },\n",
            "      \"page_content\": \"relevance. Feedback gathered from these pilot schools—especially from teachers,\\nstudents, and parents—shall be used to make necessary improvements and\\nrefinements to the curriculum.\\n\\nSEC. 6. TEACHER TRAINING AND CAPACITY-BUILDING.\\n\\nDepEd shall design and implement a continuous professional development program for\\nteachers, including:\\n\\nA.​\\nTraining in basic AI concepts, programming fundamentals, and AI tools;\\n\\nB.​\\nPedagogical strategies for effective AI instruction;\\n\\nC.​\\nCertification programs in collaboration with academic institutions and industry\\npartners; and\\n\\nD.​\\nProvision of teaching resources, reference materials, and technical support.\\n\\nSEC. 7. LEARNING RESOURCES AND INFRASTRUCTURE.\\n\\nTo facilitate effective teaching and learning of AI, DepEd, in collaboration with DICT and\\nDOST, shall:\\n\\nA.​\\nEnsure availability of computers, internet connectivity, and software in all schools;\\nB.​\\nDevelop an open-access online repository of AI learning materials; and\\nC.​\\nProvide technical assistance to schools in resource-limited settings.\\n\\nSEC. 8. INCLUSION OF AI AWARENESS IN EARLY GRADES.\\n\\nDepEd shall introduce age-appropriate content on AI awareness and digit…\",\n",
            "      \"type\": \"Document\"\n",
            "    },\n",
            "    {\n",
            "      \"metadata\": {\n",
            "        \"author\": \"\",\n",
            "        \"file_path\": \"bills\\\\HB02186.pdf\",\n",
            "        \"page\": 1,\n",
            "        \"source\": \"bills\\\\HB02186.pdf\",\n",
            "        \"title\": \"House Bill on Integrating AI in Basic Education Curriculum (BHPL).docx\"\n",
            "      },\n",
            "      \"page_content\": \"age-appropriate curriculum modules in consultation with the Department of Science and\\nTechnology, the Department of Information and Communications Technology, and other\\npartners. Teacher capacity-building will be central to this initiative, complemented by\\ninvestments in infrastructure, open-access learning resources, and training programs.\\nInternational experience demonstrates that early AI education can bridge digital divides,\\nreduce technology anxieties, and spark interest in careers in science and technology.\\nCountries such as Singapore, China, the United States, and the United Kingdom have\\nalready begun introducing AI lessons as early as primary school. If we are to remain\\ncompetitive and inclusive in our development, the Philippines must likewise act with\\nurgency.\\nThe passage of this bill will empower the next generation of Filipinos with the\\nknowledge, skills, and ethical grounding to shape AI in ways that advance national\\nprogress and uphold our shared values.\\nIn view of the foregoing, the immediate enactment of this measure is earnestly sought.\\nRep. ROBERT NAZAL\\nRepresentative\",\n",
            "      \"type\": \"Document\"\n",
            "    },\n",
            "    {\n",
            "      \"metadata\": {\n",
            "        \"author\": \"\",\n",
            "        \"file_path\": \"bills\\\\HB02186.pdf\",\n",
            "        \"page\": 0,\n",
            "        \"source\": \"bills\\\\HB02186.pdf\",\n",
            "        \"title\": \"House Bill on Integrating AI in Basic Education Curriculum (BHPL).docx\"\n",
            "      },\n",
            "      \"page_content\": \"Republic of the Philippines\\nHOUSE OF REPRESENTATIVES\\nQuezon City, Metro Manila\\nTWENTIETH CONGRESS\\nFirst Regular Session\\nHOUSE BILL NO. ______\\nIntroduced by\\nRep. Robert Nazal\\nAN ACT\\nINSTITUTIONALIZING THE INTEGRATION OF ARTIFICIAL INTELLIGENCE\\nEDUCATION INTO THE ELEMENTARY AND SECONDARY CURRICULUM,\\nPROVIDING FOR ITS IMPLEMENTATION, AND FOR OTHER PURPOSES\\nEXPLANATORY NOTE\\nArtificial Intelligence (AI) has emerged as a transformative force in nearly every sector\\nof modern life, from healthcare and finance to agriculture, logistics, and education. In\\nthe World Economic Forum’s Future of Jobs Report 2023, AI and machine learning\\nspecialists ranked among the fastest-growing occupations globally. In the Philippines, AI\\napplications are increasingly integrated in business operations, and creative industries.\\nYet there remains a significant gap in foundational AI literacy among young Filipinos.\\nBasic exposure to AI concepts and ethical frameworks during formative schooling years\\nis vital to ensure that our graduates are not merely passive users of technology but\\ninformed, responsible, and innovative contributors to an increasingly digital world.\\nIntroducing AI education…\",\n",
            "      \"type\": \"Document\"\n",
            "    }\n",
            "  ],\n",
            "  \"question\": \"What is the best approach for AI in education?\",\n",
            "  \"response\": \"Based on the provided bill, the best approach is a comprehensive, phased, and inclusive integration\\nof AI into basic education that includes:\\n\\n- Formal K–12 integration with age-appropriate content: introduce AI awareness and digital literacy\\nin Grades 1–3 and basic-to-intermediate AI modules for Grades 4–12.\\n- Curriculum and materials development: DepEd (with DOST, DICT, CHED, and stakeholders) to produce\\ncurriculum guides, lesson plans, teaching strategies and learning resources (to be completed within\\ntwo years).\\n- Ethics and responsible use: embed modules on data privacy, responsible data use, algorithmic\\nfairness, and societal impacts.\\n- Pilot testing and feedback: pilot the curriculum in selected schools and refine materials based on\\nteacher, student, and parent feedback.\\n- Teacher capacity-building: continuous professional development covering AI concepts, programming\\nfundamentals, pedagogy, certification programs, and provision of teaching resources and technical\\nsupport.\\n- Infrastructure and resources: ensure computers, internet, software, an open-access online\\nrepository of AI materials, and technical assistance for resource-limited schools.\\n- Partnerships and…\"\n",
            "}\n"
          ]
        }
      ],
      "source": [
        "pretty_print(result, width=100, max_str=1200, sort_keys=True)"
      ]
    },
    {
      "cell_type": "code",
      "execution_count": 83,
      "metadata": {},
      "outputs": [
        {
          "data": {
            "text/markdown": [
              "Based on the provided bill, the best approach is a comprehensive, phased, and inclusive integration of AI into basic education that includes:\n",
              "\n",
              "- Formal K–12 integration with age-appropriate content: introduce AI awareness and digital literacy in Grades 1–3 and basic-to-intermediate AI modules for Grades 4–12.  \n",
              "- Curriculum and materials development: DepEd (with DOST, DICT, CHED, and stakeholders) to produce curriculum guides, lesson plans, teaching strategies and learning resources (to be completed within two years).  \n",
              "- Ethics and responsible use: embed modules on data privacy, responsible data use, algorithmic fairness, and societal impacts.  \n",
              "- Pilot testing and feedback: pilot the curriculum in selected schools and refine materials based on teacher, student, and parent feedback.  \n",
              "- Teacher capacity-building: continuous professional development covering AI concepts, programming fundamentals, pedagogy, certification programs, and provision of teaching resources and technical support.  \n",
              "- Infrastructure and resources: ensure computers, internet, software, an open-access online repository of AI materials, and technical assistance for resource-limited schools.  \n",
              "- Partnerships and support: authorize memoranda of agreement with academia, industry, international organizations, and professional bodies to support curriculum enhancement, training, competitions, and donations.  \n",
              "- Continuous review and updating: regularly revise curriculum and materials to keep pace with technological advances.  \n",
              "- Emphasis on inclusivity: cover all public and private schools nationwide and prioritize underserved communities."
            ],
            "text/plain": [
              "<IPython.core.display.Markdown object>"
            ]
          },
          "metadata": {},
          "output_type": "display_data"
        }
      ],
      "source": [
        "from IPython.display import Markdown, display\n",
        "\n",
        "display(Markdown(result[\"response\"]))"
      ]
    },
    {
      "cell_type": "markdown",
      "metadata": {
        "id": "gReMizYk8qd-"
      },
      "source": [
        "### RAG Limitation\n",
        "\n",
        "Notice how we're hard-coding our data, while this is simply meant to be an illustrative example - you could easily extend this to work with any provied paper or document in order to have a more dynamic system.\n",
        "\n",
        "For now, we'll stick with this single hard-coded example in order to keep complexity down in an already very long notebook!"
      ]
    },
    {
      "cell_type": "markdown",
      "metadata": {
        "id": "oxkbuir-H5rE"
      },
      "source": [
        "<div style=\"background-color: #204B8E; color: white; padding: 10px; border-radius: 5px;\">\n",
        "\n",
        "##### 🏗️ Activity #1\n",
        "\n",
        "Allow the system to dynamically fetch Arxiv papers instead of hard coding them.\n",
        "\n",
        "> HINT: Tuesday's assignment will be very useful here.\n",
        "\n",
        "</div>"
      ]
    },
    {
      "cell_type": "code",
      "execution_count": 137,
      "metadata": {},
      "outputs": [],
      "source": [
        "# Dynamic Arxiv Paper Fetching Implementation\n",
        "import arxiv\n",
        "from langchain_community.tools.arxiv.tool import ArxivQueryRun\n",
        "from langchain_core.tools import tool\n",
        "from typing import Annotated, List, Optional\n",
        "from langchain.text_splitter import RecursiveCharacterTextSplitter\n",
        "from langchain_openai.embeddings import OpenAIEmbeddings\n",
        "from langchain_community.vectorstores import Qdrant\n",
        "from langchain_core.documents import Document\n",
        "from langchain_core.prompts import ChatPromptTemplate\n",
        "from langchain_core.output_parsers import StrOutputParser\n",
        "import tiktoken\n",
        "\n",
        "# Enhanced Arxiv Tools\n",
        "@tool\n",
        "def search_and_fetch_arxiv_papers(\n",
        "    query: Annotated[str, \"Search query to find relevant Arxiv papers\"],\n",
        "    max_results: Annotated[int, \"Maximum number of papers to fetch\"] = 5,\n",
        "    sort_by: Annotated[str, \"Sort by: relevance, lastUpdatedDate, submittedDate\"] = \"relevance\"\n",
        ") -> str:\n",
        "    \"\"\"Search Arxiv for papers matching the query and return their content for RAG processing.\"\"\"\n",
        "    \n",
        "    # Search Arxiv\n",
        "    search = arxiv.Search(\n",
        "        query=query,\n",
        "        max_results=max_results,\n",
        "        sort_by=arxiv.SortCriterion.Relevance if sort_by == \"relevance\" else arxiv.SortCriterion.LastUpdatedDate\n",
        "    )\n",
        "    \n",
        "    papers_content = []\n",
        "    for result in search.results():\n",
        "        paper_info = f\"\"\"\n",
        "Title: {result.title}\n",
        "Authors: {', '.join([author.name for author in result.authors])}\n",
        "Abstract: {result.summary}\n",
        "Published: {result.published}\n",
        "URL: {result.entry_id}\n",
        "\"\"\"\n",
        "        papers_content.append(paper_info)\n",
        "    \n",
        "    return \"\\n\\n\".join(papers_content)\n",
        "\n",
        "@tool\n",
        "def fetch_specific_arxiv_paper(\n",
        "    paper_id: Annotated[str, \"Arxiv paper ID (e.g., '2308.08155') or full URL\"]\n",
        ") -> str:\n",
        "    \"\"\"Fetch a specific Arxiv paper by ID and return its content.\"\"\"\n",
        "    \n",
        "    # Clean paper ID\n",
        "    if \"arxiv.org\" in paper_id:\n",
        "        paper_id = paper_id.split(\"/\")[-1]\n",
        "    \n",
        "    search = arxiv.Search(id_list=[paper_id])\n",
        "    result = next(arxiv.Client.results())\n",
        "    \n",
        "    return f\"\"\"\n",
        "Title: {result.title}\n",
        "Authors: {', '.join([author.name for author in result.authors])}\n",
        "Abstract: {result.summary}\n",
        "Published: {result.published}\n",
        "URL: {result.entry_id}\n",
        "Full Text: {result.summary}\n",
        "\"\"\"\n",
        "\n",
        "# Dynamic RAG Pipeline\n",
        "class DynamicArxivRAG:\n",
        "    def __init__(self):\n",
        "        self.embedding_model = OpenAIEmbeddings(model=\"text-embedding-3-small\")\n",
        "        self.text_splitter = RecursiveCharacterTextSplitter(\n",
        "            chunk_size=750,\n",
        "            chunk_overlap=0,\n",
        "            length_function=self._tiktoken_len,\n",
        "        )\n",
        "        self.vectorstore = None\n",
        "    \n",
        "    def _tiktoken_len(self, text):\n",
        "        tokens = tiktoken.encoding_for_model(\"gpt-4o\").encode(text)\n",
        "        return len(tokens)\n",
        "    \n",
        "    def process_arxiv_content(self, arxiv_content: str) -> List[Document]:\n",
        "        \"\"\"Process Arxiv content into documents for vector storage.\"\"\"\n",
        "        documents = []\n",
        "        papers = arxiv_content.split(\"\\n\\n\")\n",
        "        \n",
        "        for paper in papers:\n",
        "            if paper.strip():\n",
        "                doc = Document(\n",
        "                    page_content=paper,\n",
        "                    metadata={\n",
        "                        \"source\": \"arxiv\",\n",
        "                        \"type\": \"research_paper\"\n",
        "                    }\n",
        "                )\n",
        "                documents.append(doc)\n",
        "        \n",
        "        chunked_docs = self.text_splitter.split_documents(documents)\n",
        "        return chunked_docs\n",
        "    \n",
        "    def create_vectorstore(self, arxiv_content: str):\n",
        "        \"\"\"Create vector store from Arxiv content.\"\"\"\n",
        "        chunked_docs = self.process_arxiv_content(arxiv_content)\n",
        "        \n",
        "        self.vectorstore = Qdrant.from_documents(\n",
        "            documents=chunked_docs,\n",
        "            embedding=self.embedding_model,\n",
        "            location=\":memory:\"\n",
        "        )\n",
        "        \n",
        "        return self.vectorstore.as_retriever()\n",
        "    \n",
        "    def update_vectorstore(self, arxiv_content: str):\n",
        "        \"\"\"Update existing vector store with new Arxiv content.\"\"\"\n",
        "        chunked_docs = self.process_arxiv_content(arxiv_content)\n",
        "        \n",
        "        if self.vectorstore is None:\n",
        "            return self.create_vectorstore(arxiv_content)\n",
        "        else:\n",
        "            self.vectorstore.add_documents(chunked_docs)\n",
        "            return self.vectorstore.as_retriever()\n",
        "\n",
        "# Initialize dynamic RAG\n",
        "dynamic_rag = DynamicArxivRAG()\n",
        "\n",
        "@tool\n",
        "def load_arxiv_papers_for_topic(\n",
        "    topic: Annotated[str, \"Topic to search for Arxiv papers\"],\n",
        "    max_papers: Annotated[int, \"Maximum number of papers to load\"] = 10\n",
        ") -> str:\n",
        "    \"\"\"Load Arxiv papers for a specific topic and prepare them for RAG queries.\"\"\"\n",
        "    \n",
        "    # Search and fetch papers\n",
        "    arxiv_content = search_and_fetch_arxiv_papers.invoke({\n",
        "        \"query\": topic,\n",
        "        \"max_results\": max_papers\n",
        "    })\n",
        "    \n",
        "    # Create vector store\n",
        "    retriever = dynamic_rag.create_vectorstore(arxiv_content)\n",
        "    \n",
        "    return f\"Successfully loaded {max_papers} Arxiv papers on '{topic}' and prepared them for RAG queries.\"\n",
        "\n",
        "@tool\n",
        "def retrieve_dynamic_arxiv_information(\n",
        "    query: Annotated[str, \"Query to search for in the dynamically loaded Arxiv papers\"]\n",
        ") -> str:\n",
        "    \"\"\"Use Retrieval Augmented Generation to retrieve information from dynamically loaded Arxiv papers.\"\"\"\n",
        "    \n",
        "    if dynamic_rag.vectorstore is None:\n",
        "        return \"No Arxiv papers have been loaded yet. Please use load_arxiv_papers_for_topic first.\"\n",
        "    \n",
        "    retriever = dynamic_rag.vectorstore.as_retriever()\n",
        "    retrieved_docs = retriever.invoke(query)\n",
        "    \n",
        "    # Create RAG response\n",
        "    context = \"\\n\\n\".join([doc.page_content for doc in retrieved_docs])\n",
        "    \n",
        "    rag_prompt = ChatPromptTemplate.from_messages([\n",
        "        (\"human\", \"\"\"\n",
        "Use the provided context from Arxiv papers to answer the query. \n",
        "Only use the provided context. If the answer is not in the context, say \"I don't have enough information from the loaded papers.\"\n",
        "\n",
        "Context:\n",
        "{context}\n",
        "\n",
        "Query: {query}\n",
        "\"\"\")\n",
        "    ])\n",
        "    \n",
        "    rag_chain = rag_prompt | openai_chat_model | StrOutputParser()\n",
        "    return rag_chain.invoke({\"context\": context, \"query\": query})\n",
        "\n",
        "# Update research team tools\n",
        "research_team_tools = [\n",
        "    tavily_tool,\n",
        "    search_and_fetch_arxiv_papers,\n",
        "    fetch_specific_arxiv_paper,\n",
        "    load_arxiv_papers_for_topic,\n",
        "    retrieve_dynamic_arxiv_information\n",
        "]"
      ]
    },
    {
      "cell_type": "markdown",
      "metadata": {
        "id": "7U6a_pqQ9uWf"
      },
      "source": [
        "## Task 2: Helper Functions for Agent Graphs\n",
        "\n",
        "We'll be using a number of agents, nodes, and supervisors in the rest of the notebook - and so it will help to have a collection of useful helper functions that we can leverage to make our lives easier going forward.\n",
        "\n",
        "Let's start with the most simple one!"
      ]
    },
    {
      "cell_type": "markdown",
      "metadata": {
        "id": "IDUnpEEl-L_F"
      },
      "source": [
        "#### Import Wall\n",
        "\n",
        "Here's a wall of imports we'll be needing going forward!"
      ]
    },
    {
      "cell_type": "code",
      "execution_count": 94,
      "metadata": {
        "id": "TbzoL3Q3-SG1"
      },
      "outputs": [],
      "source": [
        "from typing import Any, Callable, List, Optional, TypedDict, Union\n",
        "\n",
        "from langchain.agents import AgentExecutor, create_openai_functions_agent\n",
        "from langchain.output_parsers.openai_functions import JsonOutputFunctionsParser\n",
        "from langchain_core.prompts import ChatPromptTemplate, MessagesPlaceholder\n",
        "from langchain_core.messages import AIMessage, BaseMessage, HumanMessage\n",
        "from langchain_core.runnables import Runnable\n",
        "from langchain_core.tools import BaseTool\n",
        "from langchain_openai import ChatOpenAI\n",
        "\n",
        "from langgraph.graph import StateGraph\n",
        "from langgraph.constants import END"
      ]
    },
    {
      "cell_type": "markdown",
      "metadata": {
        "id": "qb6Z3EEz-Asi"
      },
      "source": [
        "### Agent Node Helper\n",
        "\n",
        "Since we're going to be wrapping each of our agents into a node - it will help to have an easy way to create the node!"
      ]
    },
    {
      "cell_type": "code",
      "execution_count": 95,
      "metadata": {
        "id": "5IF7KWfS-JKd"
      },
      "outputs": [],
      "source": [
        "def agent_node(state, agent, name):\n",
        "    result = agent.invoke(state)\n",
        "    return {\"messages\": [HumanMessage(content=result[\"output\"], name=name)]}"
      ]
    },
    {
      "cell_type": "markdown",
      "metadata": {
        "id": "fwND2teK-WHm"
      },
      "source": [
        "### Agent Creation Helper Function\n",
        "\n",
        "Since we know we'll need to create agents to populate our agent nodes, let's use a helper function for that as well!\n",
        "\n",
        "Notice a few things:\n",
        "\n",
        "1. We have a standard suffix to append to our system messages for each agent to handle the tool calling and boilerplate prompting.\n",
        "2. Each agent has its our scratchpad.\n",
        "3. We're relying on OpenAI's function-calling API for tool selection\n",
        "4. Each agent is its own executor."
      ]
    },
    {
      "cell_type": "code",
      "execution_count": 96,
      "metadata": {
        "id": "NxLyHJt5-eUx"
      },
      "outputs": [],
      "source": [
        "def create_agent(\n",
        "    llm: ChatOpenAI,\n",
        "    tools: list,\n",
        "    system_prompt: str,\n",
        ") -> str:\n",
        "    \"\"\"Create a function-calling agent and add it to the graph.\"\"\"\n",
        "    system_prompt += (\"\\nWork autonomously according to your specialty, using the tools available to you.\"\n",
        "    \" Do not ask for clarification.\"\n",
        "    \" Your other team members (and other teams) will collaborate with you with their own specialties.\"\n",
        "    \" You are chosen for a reason!\")\n",
        "    prompt = ChatPromptTemplate.from_messages(\n",
        "        [\n",
        "            (\n",
        "                \"system\",\n",
        "                system_prompt,\n",
        "            ),\n",
        "            MessagesPlaceholder(variable_name=\"messages\"),\n",
        "            MessagesPlaceholder(variable_name=\"agent_scratchpad\"),\n",
        "        ]\n",
        "    )\n",
        "    agent = create_openai_functions_agent(llm, tools, prompt)\n",
        "    executor = AgentExecutor(agent=agent, tools=tools)\n",
        "    return executor"
      ]
    },
    {
      "cell_type": "markdown",
      "metadata": {
        "id": "S6kmlR9d-1K5"
      },
      "source": [
        "### Supervisor Helper Function\n",
        "\n",
        "Finally, we need a \"supervisor\" that decides and routes tasks to specific agents.\n",
        "\n",
        "Since each \"team\" will have a collection of potential agents - this \"supervisor\" will act as an \"intelligent\" router to make sure that the right agent is selected for the right task.\n",
        "\n",
        "Notice that, at the end of the day, this \"supervisor\" is simply directing who acts next - or if the state is considered \"done\"."
      ]
    },
    {
      "cell_type": "code",
      "execution_count": 97,
      "metadata": {
        "id": "S2MXA83mrYE2"
      },
      "outputs": [],
      "source": [
        "def create_team_supervisor(llm: ChatOpenAI, system_prompt, members) -> str:\n",
        "    \"\"\"An LLM-based router.\"\"\"\n",
        "    options = [\"FINISH\"] + members\n",
        "    function_def = {\n",
        "        \"name\": \"route\",\n",
        "        \"description\": \"Select the next role.\",\n",
        "        \"parameters\": {\n",
        "            \"title\": \"routeSchema\",\n",
        "            \"type\": \"object\",\n",
        "            \"properties\": {\n",
        "                \"next\": {\n",
        "                    \"title\": \"Next\",\n",
        "                    \"anyOf\": [\n",
        "                        {\"enum\": options},\n",
        "                    ],\n",
        "                },\n",
        "            },\n",
        "            \"required\": [\"next\"],\n",
        "        },\n",
        "    }\n",
        "    prompt = ChatPromptTemplate.from_messages(\n",
        "        [\n",
        "            (\"system\", system_prompt),\n",
        "            MessagesPlaceholder(variable_name=\"messages\"),\n",
        "            (\n",
        "                \"system\",\n",
        "                \"Given the conversation above, who should act next?\"\n",
        "                \" Or should we FINISH? Select one of: {options}\",\n",
        "            ),\n",
        "        ]\n",
        "    ).partial(options=str(options), team_members=\", \".join(members))\n",
        "    return (\n",
        "        prompt\n",
        "        | llm.bind_functions(functions=[function_def], function_call=\"route\")\n",
        "        | JsonOutputFunctionsParser()\n",
        "    )"
      ]
    },
    {
      "cell_type": "markdown",
      "metadata": {
        "id": "jd0zfyq48jKb"
      },
      "source": [
        "## Task 3: Research Team - A LangGraph for Researching on AI Proposed Bills\n",
        "\n",
        "Now that we have our RAG chain set-up and some awesome helper functions, we want to create a LangGraph related to researching a specific topic, in this case: Loans!\n",
        "\n",
        "We're going to start by equipping our Research Team with a few tools:\n",
        "\n",
        "1. Tavily Search - aka \"Google\", for the most up to date information possible.\n",
        "2. Our RAG chain - specific and high quality information about our topic.\n",
        "\n",
        "Let's create those tools now!"
      ]
    },
    {
      "cell_type": "markdown",
      "metadata": {
        "id": "VNsVTZrH_alw"
      },
      "source": [
        "### Tool Creation\n",
        "\n",
        "As you can see below, some tools already come pre-packaged ready to use!"
      ]
    },
    {
      "cell_type": "code",
      "execution_count": 98,
      "metadata": {
        "id": "ce7FKTZDgAWG"
      },
      "outputs": [],
      "source": [
        "from langchain_community.tools.tavily_search import TavilySearchResults\n",
        "\n",
        "tavily_tool = TavilySearchResults(max_results=5)"
      ]
    },
    {
      "cell_type": "markdown",
      "metadata": {
        "id": "NIR7cbTL9agM"
      },
      "source": [
        "Creating a custom tool, however, is very straightforward.\n",
        "\n",
        "> NOTE: You *must* include a docstring, as that is what the LLM will consider when deciding when to use this tool."
      ]
    },
    {
      "cell_type": "code",
      "execution_count": 99,
      "metadata": {
        "id": "sSwO2L_UqFhm"
      },
      "outputs": [],
      "source": [
        "from typing import Annotated, List, Tuple, Union\n",
        "from langchain_core.tools import tool\n",
        "\n",
        "@tool\n",
        "def retrieve_information(\n",
        "    query: Annotated[str, \"query to ask the retrieve information tool\"]\n",
        "    ):\n",
        "  \"\"\"Use Retrieval Augmented Generation to retrieve information about the AI bills proposed in the Philippines.\"\"\"\n",
        "  return rag_graph.invoke({\"question\" : query})"
      ]
    },
    {
      "cell_type": "markdown",
      "metadata": {
        "id": "nxsMnqjpBTCj"
      },
      "source": [
        "> NOTE: We could just as easily use the LCEL chain directly, since nodes can be LCEL objects - but creating a tool helps explain the tool creation process at the same time."
      ]
    },
    {
      "cell_type": "markdown",
      "metadata": {
        "id": "oDHCajO4_gB2"
      },
      "source": [
        "### Research Team State\n",
        "\n",
        "Since we're using LangGraph - we're going to need state!\n",
        "\n",
        "Let's look at how we've created our state below."
      ]
    },
    {
      "cell_type": "code",
      "execution_count": 100,
      "metadata": {
        "id": "mXminK9d_1fa"
      },
      "outputs": [],
      "source": [
        "import functools\n",
        "import operator\n",
        "\n",
        "from langchain_core.messages import AIMessage, BaseMessage, HumanMessage\n",
        "from langchain_openai.chat_models import ChatOpenAI\n",
        "import functools\n",
        "\n",
        "class ResearchTeamState(TypedDict):\n",
        "    messages: Annotated[List[BaseMessage], operator.add]\n",
        "    team_members: List[str]\n",
        "    next: str"
      ]
    },
    {
      "cell_type": "markdown",
      "metadata": {
        "id": "fvPM5msq_18C"
      },
      "source": [
        "Notice how we've used `messages`, `team_members`, and `next`.\n",
        "\n",
        "These states will help us understand:\n",
        "\n",
        "1. What we've done so far (`messages`)\n",
        "2. Which team members we have access to (`team_members`)\n",
        "3. Which team member is up next! (`next`)"
      ]
    },
    {
      "cell_type": "markdown",
      "metadata": {
        "id": "Mu7B_6qHAFjK"
      },
      "source": [
        "### Research Team LLM\n",
        "\n",
        "We'll be using `gpt-5o-mini` today. This LLM is going to be doing a lot of reasoning - but we also want to keep our costs down, so we'll use a lightweight; but powerful, model!"
      ]
    },
    {
      "cell_type": "code",
      "execution_count": 101,
      "metadata": {
        "id": "dTNqrip8AcKR"
      },
      "outputs": [],
      "source": [
        "llm = ChatOpenAI(model=\"gpt-4o-mini\")"
      ]
    },
    {
      "cell_type": "markdown",
      "metadata": {
        "id": "pfb_VCNKIy9w"
      },
      "source": [
        "<div style=\"background-color: #204B8E; color: white; padding: 10px; border-radius: 5px;\">\n",
        "\n",
        "##### ❓ Question #1:\n",
        "\n",
        "Why is a \"powerful\" LLM important for this use-case?\n",
        "\n",
        "What tasks must our Agent perform that make it such that the LLM's reasoning capability is a potential limiter?\n",
        "\n",
        "</div>"
      ]
    },
    {
      "cell_type": "markdown",
      "metadata": {},
      "source": [
        "### Answer:\n",
        "1) Why is a “powerful” LLM important for this use-case?\n",
        "\n",
        "    - It must plan, route, and synthesize — not just answer one-off questions.\n",
        "\n",
        "    - Handles long context and keeps outputs on-schema (tools/functions, ReportData).\n",
        "\n",
        "    - Reduces misrouting, hallucinations, and “stuck in a loop” behavior.\n",
        "\n",
        "2) What tasks make reasoning a potential limiter?\n",
        "\n",
        "    - Plan & decompose the query into sub-tasks.\n",
        "\n",
        "    - Route to the right agent/tool (supervisor decisions).\n",
        "\n",
        "    - Synthesize multiple retrieved chunks/search results coherently.\n",
        "\n",
        "    - Follow structure strictly (function calls, structured outputs).\n",
        "\n",
        "    - Control loops (helpfulness checks, stop/continue).\n",
        "\n",
        "    - Maintain context across multi-step, multi-agent messages."
      ]
    },
    {
      "cell_type": "markdown",
      "metadata": {
        "id": "ZR_1LuMKAekf"
      },
      "source": [
        "### Research Team Agents & Nodes\n",
        "\n",
        "Now we can use our helper functions to create our agent nodes, with their related tools.\n",
        "\n",
        "Let's start with our search agent node."
      ]
    },
    {
      "cell_type": "markdown",
      "metadata": {
        "id": "uzx6wuPoAlPq"
      },
      "source": [
        "#### Research Team: Search Agent\n",
        "\n",
        "We're going to give our agent access to the Tavily tool, power it with our GPT-4o Mini model, and then create its node - and name it `Search`."
      ]
    },
    {
      "cell_type": "code",
      "execution_count": 102,
      "metadata": {
        "id": "FIlLPxj7Atpj"
      },
      "outputs": [],
      "source": [
        "search_agent = create_agent(\n",
        "    llm,\n",
        "    [tavily_tool],\n",
        "    \"You are a research assistant who can search for latest info using the tavily search engine. Do not use on AI bills.\",\n",
        ")\n",
        "search_node = functools.partial(agent_node, agent=search_agent, name=\"Search\")"
      ]
    },
    {
      "cell_type": "markdown",
      "metadata": {
        "id": "emLtesudA9Dd"
      },
      "source": [
        "#### Research Team: RAG Agent Node\n",
        "\n",
        "Now we can wrap our LCEL RAG pipeline in an agent node as well, using the LCEL RAG pipeline as the tool, as created above."
      ]
    },
    {
      "cell_type": "code",
      "execution_count": null,
      "metadata": {
        "id": "z-nnAG9XA_p7"
      },
      "outputs": [],
      "source": [
        "# research_agent = create_agent(\n",
        "#     llm,\n",
        "#     [retrieve_information],\n",
        "#     \"You are a research assistant who can provide information on the AI bills proposed in the Philippines.\",\n",
        "# )\n",
        "# research_node = functools.partial(agent_node, agent=research_agent, name=\"BillRetriever\")"
      ]
    },
    {
      "cell_type": "code",
      "execution_count": 103,
      "metadata": {},
      "outputs": [],
      "source": [
        "research_agent = create_agent(\n",
        "    llm,\n",
        "    research_team_tools,\n",
        "    \"\"\"You are a research assistant who can:\n",
        "    1. Search for latest information using Tavily\n",
        "    2. Search and fetch Arxiv papers on any topic\n",
        "    3. Load specific Arxiv papers by ID\n",
        "    4. Load Arxiv papers for specific topics and prepare them for RAG queries\n",
        "    5. Retrieve information from loaded Arxiv papers using RAG\n",
        "    6. Provide information on AI bills proposed in the Philippines\n",
        "    \n",
        "    When researching AI topics, prefer using Arxiv papers for technical accuracy.\n",
        "    Always load relevant papers before attempting to answer technical questions.\n",
        "    \"\"\",\n",
        ")\n",
        "research_node = functools.partial(agent_node, agent=research_agent, name=\"BillRetriever\")"
      ]
    },
    {
      "cell_type": "markdown",
      "metadata": {
        "id": "dA5z6T1CBeSc"
      },
      "source": [
        "### Research Team Supervisor Agent\n",
        "\n",
        "Notice that we're not yet creating our supervisor *node*, simply the agent here.\n",
        "\n",
        "Also notice how we need to provide a few extra pieces of information - including which tools we're using.\n",
        "\n",
        "> NOTE: It's important to use the *exact* tool name, as that is how the LLM will reference the tool. Also, it's important that your tool name is all a single alphanumeric string!\n",
        "\n"
      ]
    },
    {
      "cell_type": "code",
      "execution_count": null,
      "metadata": {
        "id": "J0g8CQMBrtFs"
      },
      "outputs": [
        {
          "name": "stderr",
          "output_type": "stream",
          "text": [
            "/var/folders/r9/vmqskzn976z46cchxvqpz49c0000gn/T/ipykernel_68492/488856706.py:34: LangChainDeprecationWarning: The method `BaseChatOpenAI.bind_functions` was deprecated in langchain-openai 0.2.1 and will be removed in 1.0.0. Use :meth:`~langchain_openai.chat_models.base.ChatOpenAI.bind_tools` instead.\n",
            "  | llm.bind_functions(functions=[function_def], function_call=\"route\")\n"
          ]
        }
      ],
      "source": [
        "# supervisor_agent = create_team_supervisor(\n",
        "#     llm,\n",
        "#     (\"You are a supervisor tasked with managing a conversation between the\"\n",
        "#     \" following workers:  Search, BillRetriever. Given the following user request,\"\n",
        "#     \" determine the subject to be researched and respond with the worker to act next. Each worker will perform a\"\n",
        "#     \" task and respond with their results and status. \"\n",
        "#     \" You should never ask your team to do anything beyond research. They are not required to write content or posts.\"\n",
        "#     \" You should only pass tasks to workers that are specifically research focused.\"\n",
        "#     \" When finished, respond with FINISH.\"),\n",
        "#     [\"Search\", \"BillRetriever\"],\n",
        "# )"
      ]
    },
    {
      "cell_type": "code",
      "execution_count": 104,
      "metadata": {},
      "outputs": [],
      "source": [
        "supervisor_agent = create_team_supervisor(\n",
        "    llm,\n",
        "    (\"\"\"You are a supervisor managing a research team with the following capabilities:\n",
        "    - Search: Use Tavily for general web search and latest information\n",
        "    - BillRetriever: Access Philippine AI bill information AND dynamic Arxiv paper research\n",
        "    \n",
        "    For technical AI questions (LLMs, fine-tuning, architectures, etc.), the BillRetriever should:\n",
        "    1. First load relevant Arxiv papers using load_arxiv_papers_for_topic\n",
        "    2. Then retrieve specific information using retrieve_dynamic_arxiv_information\n",
        "    \n",
        "    For policy/bill questions about Philippine AI legislation, use BillRetriever to access the hardcoded bill documents.\n",
        "    \n",
        "    For general information not covered by bills or technical papers, use Search.\n",
        "    \n",
        "    Always ensure relevant papers are loaded before attempting detailed technical answers.\n",
        "    \"\"\"),\n",
        "    [\"Search\", \"BillRetriever\"],\n",
        ")"
      ]
    },
    {
      "cell_type": "markdown",
      "metadata": {
        "id": "qohn0DcgB_U1"
      },
      "source": [
        "### Research Team Graph Creation\n",
        "\n",
        "Now that we have our research team agent nodes created, and our supervisor agent - let's finally construct our graph!\n",
        "\n",
        "We'll start by creating our base graph from our state, and then adding the nodes/agent we've created as nodes on our LangGraph."
      ]
    },
    {
      "cell_type": "code",
      "execution_count": 107,
      "metadata": {
        "id": "p0s2GAgJCN8G"
      },
      "outputs": [
        {
          "data": {
            "text/plain": [
              "<langgraph.graph.state.StateGraph at 0x2c611433490>"
            ]
          },
          "execution_count": 107,
          "metadata": {},
          "output_type": "execute_result"
        }
      ],
      "source": [
        "research_graph = StateGraph(ResearchTeamState)\n",
        "\n",
        "research_graph.add_node(\"Search\", search_node)\n",
        "research_graph.add_node(\"BillRetriever\", research_node)\n",
        "research_graph.add_node(\"supervisor\", supervisor_agent)"
      ]
    },
    {
      "cell_type": "markdown",
      "metadata": {
        "id": "33qixRGNCaAX"
      },
      "source": [
        "Now we can define our edges - include our conditional edge from our supervisor to our agent nodes.\n",
        "\n",
        "Notice how we're always routing our agent nodes back to our supervisor!"
      ]
    },
    {
      "cell_type": "code",
      "execution_count": 108,
      "metadata": {
        "id": "yYSJIhijsGyg"
      },
      "outputs": [
        {
          "data": {
            "text/plain": [
              "<langgraph.graph.state.StateGraph at 0x2c611433490>"
            ]
          },
          "execution_count": 108,
          "metadata": {},
          "output_type": "execute_result"
        }
      ],
      "source": [
        "research_graph.add_edge(\"Search\", \"supervisor\")\n",
        "research_graph.add_edge(\"BillRetriever\", \"supervisor\")\n",
        "research_graph.add_conditional_edges(\n",
        "    \"supervisor\",\n",
        "    lambda x: x[\"next\"],\n",
        "    {\"Search\": \"Search\", \"BillRetriever\": \"BillRetriever\", \"FINISH\": END},\n",
        ")"
      ]
    },
    {
      "cell_type": "markdown",
      "metadata": {
        "id": "hgGcuZzkCj1-"
      },
      "source": [
        "Now we can set our supervisor node as the entry point, and compile our graph!"
      ]
    },
    {
      "cell_type": "code",
      "execution_count": 109,
      "metadata": {
        "id": "1l-1I2Z3CnPX"
      },
      "outputs": [],
      "source": [
        "research_graph.set_entry_point(\"supervisor\")\n",
        "compiled_research_graph = research_graph.compile()"
      ]
    },
    {
      "cell_type": "markdown",
      "metadata": {
        "id": "GDwQpYTSEY13"
      },
      "source": [
        "#### Display Graph"
      ]
    },
    {
      "cell_type": "code",
      "execution_count": 110,
      "metadata": {},
      "outputs": [],
      "source": [
        "import nest_asyncio\n",
        "nest_asyncio.apply()"
      ]
    },
    {
      "cell_type": "code",
      "execution_count": null,
      "metadata": {
        "colab": {
          "base_uri": "https://localhost:8080/",
          "height": 488
        },
        "id": "l8n6SXhpEa2b",
        "outputId": "6dac5e4e-daed-4d7a-d629-cd83119e7e2c"
      },
      "outputs": [
        {
          "data": {
            "image/png": "[encoded data removed]",
            "text/plain": [
              "<IPython.core.display.Image object>"
            ]
          },
          "metadata": {},
          "output_type": "display_data"
        }
      ],
      "source": [
        "from IPython.display import Image, display\n",
        "from langchain_core.runnables.graph import CurveStyle, MermaidDrawMethod, NodeStyles\n",
        "\n",
        "display(\n",
        "    Image(\n",
        "        compiled_research_graph.get_graph().draw_mermaid_png(\n",
        "            curve_style=CurveStyle.LINEAR,\n",
        "            node_colors=NodeStyles(first=\"#ffdfba\", last=\"#baffc9\", default=\"#fad7de\"),\n",
        "            wrap_label_n_words=9,\n",
        "            output_file_path=None,\n",
        "            draw_method=MermaidDrawMethod.PYPPETEER,\n",
        "            background_color=\"white\",\n",
        "            padding=10,\n",
        "        )\n",
        "    )\n",
        ")"
      ]
    },
    {
      "cell_type": "code",
      "execution_count": 111,
      "metadata": {},
      "outputs": [
        {
          "data": {
            "image/png": "[encoded data removed]",
            "text/plain": [
              "<IPython.core.display.Image object>"
            ]
          },
          "metadata": {},
          "output_type": "display_data"
        }
      ],
      "source": [
        "from IPython.display import Image, display\n",
        "from langchain_core.runnables.graph import CurveStyle, MermaidDrawMethod, NodeStyles\n",
        "\n",
        "display(\n",
        "    Image(\n",
        "        compiled_research_graph.get_graph().draw_mermaid_png(\n",
        "            curve_style=CurveStyle.LINEAR,\n",
        "            node_colors=NodeStyles(first=\"#ffdfba\", last=\"#baffc9\", default=\"#fad7de\"),\n",
        "            wrap_label_n_words=9,\n",
        "            output_file_path=None,\n",
        "            draw_method=MermaidDrawMethod.API, # changed value from Pyppeteer into API\n",
        "            background_color=\"white\",\n",
        "            padding=10,\n",
        "        )\n",
        "    )\n",
        ")"
      ]
    },
    {
      "cell_type": "markdown",
      "metadata": {
        "id": "bfRvA2QfCqFL"
      },
      "source": [
        "The next part is key - since we need to \"wrap\" our LangGraph in order for it to be compatible in the following steps - let's create an LCEL chain out of it!\n",
        "\n",
        "This allows us to \"broadcast\" messages down to our Research Team LangGraph!"
      ]
    },
    {
      "cell_type": "code",
      "execution_count": 112,
      "metadata": {
        "id": "1G7hmEINCx3i"
      },
      "outputs": [],
      "source": [
        "def enter_chain(message: str):\n",
        "    results = {\n",
        "        \"messages\": [HumanMessage(content=message)],\n",
        "    }\n",
        "    return results\n",
        "\n",
        "research_chain = enter_chain | compiled_research_graph"
      ]
    },
    {
      "cell_type": "markdown",
      "metadata": {
        "id": "EGdoCdXWC7Pi"
      },
      "source": [
        "Now, finally, we can take it for a spin!"
      ]
    },
    {
      "cell_type": "code",
      "execution_count": 113,
      "metadata": {
        "colab": {
          "base_uri": "https://localhost:8080/"
        },
        "id": "xIDpFIg2sRUl",
        "outputId": "bb3803d4-5b32-4b0a-c8a1-1a1917425812"
      },
      "outputs": [
        {
          "name": "stdout",
          "output_type": "stream",
          "text": [
            "{'supervisor': {'next': 'BillRetriever'}}\n",
            "---\n",
            "{'BillRetriever': {'messages': [HumanMessage(content='The proposed AI bill in the Philippines outlines various penalties for violations, with the maximum penalties as follows:\\n\\n1. Fines for passing off AI-generated content as human-made can range from **₱500,000 to ₱2,000,000** or imprisonment for **six months to three years**, or both.\\n\\n2. For intentionally using AI systems to commit fraud or facilitate crimes, fines can range from **₱2,000,000 to ₱10,000,000**, or imprisonment for **six to 12 years**, or both.\\n\\n3. If the offense results in death, physical injury, or large-scale damage, the penalties will be at their maximum limits.\\n\\n4. For spreading disinformation or using AI for mass opinion manipulation, penalties include fines between **₱1,000,000 and ₱5,000,000** or imprisonment for **three to 10 years**, or both.\\n\\nIn summary, the maximum penalty for severe violations may reach up to **₱10 million** in fines or imprisonment of up to **12 years**.', additional_kwargs={}, response_metadata={}, name='BillRetriever')]}}\n",
            "---\n",
            "{'supervisor': {'next': 'FINISH'}}\n",
            "---\n"
          ]
        }
      ],
      "source": [
        "for s in research_chain.stream(\n",
        "    \"What is the maximum penalty for the violation of the AI bill?\", {\"recursion_limit\": 10}\n",
        "):\n",
        "    if \"__end__\" not in s:\n",
        "        print(s)\n",
        "        print(\"---\")"
      ]
    },
    {
      "cell_type": "code",
      "execution_count": 117,
      "metadata": {},
      "outputs": [
        {
          "name": "stdout",
          "output_type": "stream",
          "text": [
            "{'supervisor': {'next': 'BillRetriever'}}\n",
            "---\n",
            "{'BillRetriever': {'messages': [HumanMessage(content='In the Philippines, the maximum penalties for violations of the proposed AI bills include:\\n\\n1. **General Non-Compliance**: A fine ranging from **P500,000 to P5,000,000**, or imprisonment from **six months to three years**, or both at the discretion of the court.\\n   \\n2. **Intentional Misuse**: If AI systems are used to commit fraud, facilitate or conceal crimes, or cause harm to life, liberty, property, or national security, penalties include a fine of **P2,000,000 to P10,000,000**, or imprisonment of **six to 12 years**, or both.\\n\\n3. **Severe Consequences**: If an offense results in death, physical injury, or significant financial/reputational damage, the maximum penalties will apply.\\n\\n4. **Disinformation and Manipulation**: Using AI to create or disseminate disinformation, conduct mass opinion manipulation (through bots or deepfakes), or unauthorized surveillance can incur penalties of **P1,000,000 to P5,000,000**, or imprisonment from **three to 10 years**, or both.\\n\\n5. **Unregistered AI Systems**: The development and deployment of unregistered AI systems may result in revocation of business permits or licenses and being blacklisted from government procurement and AI development grants.\\n\\nThese penalties are part of efforts to regulate AI usage and ensure accountability, as emphasized by various bills proposed in the Senate.', additional_kwargs={}, response_metadata={}, name='BillRetriever')]}}\n",
            "---\n",
            "{'supervisor': {'next': 'FINISH'}}\n",
            "---\n"
          ]
        }
      ],
      "source": [
        "for s in research_chain.stream(\n",
        "    \"In Philippines, what is the maximum penalty for the violation of the AI bill?\", {\"recursion_limit\": 10}\n",
        "):\n",
        "    if \"__end__\" not in s:\n",
        "        print(s)\n",
        "        print(\"---\")"
      ]
    },
    {
      "cell_type": "markdown",
      "metadata": {},
      "source": [
        "<div style=\"background-color: #204B8E; color: white; padding: 10px; border-radius: 5px;\">\n",
        "\n",
        "### Question: Why Search?!?!\n",
        "\n",
        "The supervisor seems to prefer Search. \n",
        "How can you improve the system to prioritize billretriever?\n",
        "\n",
        "</div>"
      ]
    },
    {
      "cell_type": "markdown",
      "metadata": {},
      "source": [
        "### Answer:\n",
        "\n",
        "Why Search?\n",
        "- The supervisor is defaulting to Search because it has no hard rule that “penalties about PH AI bills → BillRetriever first,” and Search tends to produce a confident-looking answer quickly, so the supervisor stops.\n",
        "\n",
        "How to improve the system to prioritize BillRetriever?\n",
        "- Supervisor rule: If the query mentions Philippines/PH/House Bill/HB/violations/penalties → choose BillRetriever first; use Search only if BillRetriever says it lacks coverage.\n",
        "\n",
        "- Tool roles: Describe BillRetriever as the PH AI-bill expert (penalties, sections, citations). Describe Search as general/news fallback not for AI bills.\n",
        "\n",
        "- Evidence preference: Tell the supervisor to prefer answers with bill sections/citations; if missing, route to BillRetriever.\n",
        "\n",
        "- Self-reporting: Have agents label replies COVERAGE: HIGH/LOW; on LOW, the supervisor re-routes to BillRetriever.\n",
        "\n",
        "- Keyword bias: Add a simple keyword check (e.g., “Philippines”, “HB”, “penalty”) to bias initial routing toward BillRetriever.\n",
        "\n",
        "- Finish rule: For PH-bill questions, don’t finish until BillRetriever has responded at least once.\n"
      ]
    },
    {
      "cell_type": "markdown",
      "metadata": {
        "id": "DHAgsbwIIhwj"
      },
      "source": [
        "<div style=\"background-color: #204B8E; color: white; padding: 10px; border-radius: 5px;\">\n",
        "\n",
        "##### 🏗️ Activity #2:\n",
        "\n",
        "Using whatever drawing application you wish - please label the flow above on a diagram of your graph.\n",
        "\n",
        "Hint: try asking Cursor agent to draw diagram using mermaid... sometimes you can get lucky.\n",
        "</div>"
      ]
    },
    {
      "cell_type": "markdown",
      "metadata": {},
      "source": [
        "Mermaid Diagram\n",
        "\n",
        "![Diagram](images/diagram.png)"
      ]
    },
    {
      "cell_type": "markdown",
      "metadata": {},
      "source": [
        "<div style=\"background-color:teal; color: black; padding: 10px; border-radius: 5px;\">\n",
        "\n",
        "### BREAK-OUT #2\n",
        "\n",
        "</div>"
      ]
    },
    {
      "cell_type": "markdown",
      "metadata": {
        "id": "ejsHCZZ2EmwM"
      },
      "source": [
        "## Task 4: Document Writing Team - A LangGraph for  Planning, Writing, and Editing Response.\n",
        "\n",
        "Let's run it all back, this time specifically creating tools, agent nodes, and a graph for Reviewing, Planning, Writing Response!"
      ]
    },
    {
      "cell_type": "markdown",
      "metadata": {
        "id": "4awQtZ-oFUN-"
      },
      "source": [
        "### Tool Creation\n",
        "\n",
        "Let's create some tools that will help us understand, open, work with, and edit documents to our liking!"
      ]
    },
    {
      "cell_type": "code",
      "execution_count": 118,
      "metadata": {
        "id": "ptXilgparOkq"
      },
      "outputs": [],
      "source": [
        "from pathlib import Path\n",
        "from tempfile import TemporaryDirectory\n",
        "from typing import Dict, Optional\n",
        "from typing_extensions import TypedDict\n",
        "import uuid\n",
        "import os\n",
        "\n",
        "os.makedirs('./content/data', exist_ok=True)\n",
        "\n",
        "def create_random_subdirectory():\n",
        "    random_id = str(uuid.uuid4())[:8]  # Use first 8 characters of a UUID\n",
        "    subdirectory_path = os.path.join('./content/data', random_id)\n",
        "    os.makedirs(subdirectory_path, exist_ok=True)\n",
        "    return subdirectory_path\n",
        "\n",
        "WORKING_DIRECTORY = Path(create_random_subdirectory())\n",
        "\n",
        "@tool\n",
        "def create_outline(\n",
        "    points: Annotated[List[str], \"List of main points or sections.\"],\n",
        "    file_name: Annotated[str, \"File path to save the outline.\"],\n",
        ") -> Annotated[str, \"Path of the saved outline file.\"]:\n",
        "    \"\"\"Create and save an outline.\"\"\"\n",
        "    with (WORKING_DIRECTORY / file_name).open(\"w\") as file:\n",
        "        for i, point in enumerate(points):\n",
        "            file.write(f\"{i + 1}. {point}\\n\")\n",
        "    return f\"Outline saved to {file_name}\"\n",
        "\n",
        "\n",
        "@tool\n",
        "def read_document(\n",
        "    file_name: Annotated[str, \"File path to save the document.\"],\n",
        "    start: Annotated[Optional[int], \"The start line. Default is 0\"] = None,\n",
        "    end: Annotated[Optional[int], \"The end line. Default is None\"] = None,\n",
        ") -> str:\n",
        "    \"\"\"Read the specified document.\"\"\"\n",
        "    with (WORKING_DIRECTORY / file_name).open(\"r\") as file:\n",
        "        lines = file.readlines()\n",
        "    if start is not None:\n",
        "        start = 0\n",
        "    return \"\\n\".join(lines[start:end])\n",
        "\n",
        "@tool\n",
        "def write_document(\n",
        "    content: Annotated[str, \"Text content to be written into the document.\"],\n",
        "    file_name: Annotated[str, \"File path to save the document.\"],\n",
        ") -> Annotated[str, \"Path of the saved document file.\"]:\n",
        "    \"\"\"Create and save a text document.\"\"\"\n",
        "    with (WORKING_DIRECTORY / file_name).open(\"w\") as file:\n",
        "        file.write(content)\n",
        "    return f\"Document saved to {file_name}\"\n",
        "\n",
        "### Previous Complaint Data\n",
        "@tool \n",
        "def reference_previous_responses(\n",
        "    query: Annotated[str, \"The query to search for in the previous responses.\"],\n",
        ") -> Annotated[str, \"The previous responses that match the query.\"]:\n",
        "    \"\"\"Search for previous responses that match the query.\"\"\"\n",
        "    return qdrant_complaint_retriever.invoke(query)\n",
        "\n",
        "\n",
        "@tool\n",
        "def edit_document(\n",
        "    file_name: Annotated[str, \"Path of the document to be edited.\"],\n",
        "    inserts: Annotated[\n",
        "        Dict[int, str],\n",
        "        \"Dictionary where key is the line number (1-indexed) and value is the text to be inserted at that line.\",\n",
        "    ] = {},\n",
        ") -> Annotated[str, \"Path of the edited document file.\"]:\n",
        "    \"\"\"Edit a document by inserting text at specific line numbers.\"\"\"\n",
        "\n",
        "    with (WORKING_DIRECTORY / file_name).open(\"r\") as file:\n",
        "        lines = file.readlines()\n",
        "\n",
        "    sorted_inserts = sorted(inserts.items())\n",
        "\n",
        "    for line_number, text in sorted_inserts:\n",
        "        if 1 <= line_number <= len(lines) + 1:\n",
        "            lines.insert(line_number - 1, text + \"\\n\")\n",
        "        else:\n",
        "            return f\"Error: Line number {line_number} is out of range.\"\n",
        "\n",
        "    with (WORKING_DIRECTORY / file_name).open(\"w\") as file:\n",
        "        file.writelines(lines)\n",
        "\n",
        "    return f\"Document edited and saved to {file_name}\""
      ]
    },
    {
      "cell_type": "markdown",
      "metadata": {
        "id": "n8yH1IAYK7nL"
      },
      "source": [
        "<div style=\"background-color: #204B8E; color: white; padding: 10px; border-radius: 5px;\">\n",
        "\n",
        "##### 🏗️ Activity #3:\n",
        "\n",
        "Describe, briefly, what each of these tools is doing in your own words.\n",
        "\n",
        "</div>"
      ]
    },
    {
      "cell_type": "markdown",
      "metadata": {},
      "source": [
        "### Answer:\n",
        "\n",
        "create_outline(points, file_name) — writes a numbered outline (your points) to a file in the working folder and returns a confirmation path.\n",
        "\n",
        "read_document(file_name, start=None, end=None) — reads a text file and returns the lines (optionally a slice).\n",
        "Note: current code forces start=0 anytime start is provided.\n",
        "\n",
        "write_document(content, file_name) — saves the given text into a new/overwritten file and returns where it was saved.\n",
        "\n",
        "reference_previous_responses(query) — searches your prior responses via the retriever and returns the most relevant snippets.\n",
        "\n",
        "edit_document(file_name, inserts={line_num: text, ...}) — inserts text at specific (1-indexed) line numbers, then saves the edited file.\n",
        "\n",
        "Working dir setup — a random subfolder under ./content/data is created so each run writes to its own safe place."
      ]
    },
    {
      "cell_type": "markdown",
      "metadata": {
        "id": "__Jw_XBIFwwa"
      },
      "source": [
        "### Document Writing State\n",
        "\n",
        "Just like with our Research Team state - we want to keep track of a few things, however this time - we also want to keep track of which files we've created - so let's add that here!"
      ]
    },
    {
      "cell_type": "code",
      "execution_count": 119,
      "metadata": {
        "id": "DoU2YwJRu7wD"
      },
      "outputs": [],
      "source": [
        "import operator\n",
        "from pathlib import Path\n",
        "\n",
        "class DocWritingState(TypedDict):\n",
        "    messages: Annotated[List[BaseMessage], operator.add]\n",
        "    team_members: str\n",
        "    next: str\n",
        "    current_files: str"
      ]
    },
    {
      "cell_type": "markdown",
      "metadata": {
        "id": "4p1kQShmGHCh"
      },
      "source": [
        "### Document Writing Prelude Function\n",
        "\n",
        "Since we have a working directory - we want to be clear about what our current working directory looks like - this helper function will allow us to do that cleanly!"
      ]
    },
    {
      "cell_type": "code",
      "execution_count": 120,
      "metadata": {
        "id": "G79mUggQGLVq"
      },
      "outputs": [],
      "source": [
        "def prelude(state):\n",
        "    written_files = []\n",
        "    if not WORKING_DIRECTORY.exists():\n",
        "        WORKING_DIRECTORY.mkdir()\n",
        "    try:\n",
        "        written_files = [\n",
        "            f.relative_to(WORKING_DIRECTORY) for f in WORKING_DIRECTORY.rglob(\"*\")\n",
        "        ]\n",
        "    except:\n",
        "        pass\n",
        "    if not written_files:\n",
        "        return {**state, \"current_files\": \"No files written.\"}\n",
        "    return {\n",
        "        **state,\n",
        "        \"current_files\": \"\\nBelow are files your team has written to the directory:\\n\"\n",
        "        + \"\\n\".join([f\" - {f}\" for f in written_files]),\n",
        "    }"
      ]
    },
    {
      "cell_type": "markdown",
      "metadata": {
        "id": "wbSre9agT9Gb"
      },
      "source": [
        "### Document Writing Node Creation\n",
        "\n"
      ]
    },
    {
      "cell_type": "code",
      "execution_count": 121,
      "metadata": {
        "id": "v7oso327T_wa"
      },
      "outputs": [],
      "source": [
        "doc_writer_agent = create_agent(\n",
        "    llm,\n",
        "    [write_document, edit_document, read_document],\n",
        "    (\"You are an expert writing responses to bill proposals.\\n\"\n",
        "    \"Below are files currently in your directory:\\n{current_files}\"),\n",
        ")\n",
        "context_aware_doc_writer_agent = prelude | doc_writer_agent\n",
        "doc_writing_node = functools.partial(\n",
        "    agent_node, agent=context_aware_doc_writer_agent, name=\"DocWriter\"\n",
        ")\n",
        "\n",
        "note_taking_agent = create_agent(\n",
        "    llm,\n",
        "    [create_outline, read_document, reference_previous_responses],\n",
        "    (\"You are an expert senior researcher tasked with writing a laws and bills and\"\n",
        "    \" taking notes to craft a response.\\n{current_files}\"),\n",
        ")\n",
        "context_aware_note_taking_agent = prelude | note_taking_agent\n",
        "note_taking_node = functools.partial(\n",
        "    agent_node, agent=context_aware_note_taking_agent, name=\"NoteTaker\"\n",
        ")\n",
        "\n",
        "copy_editor_agent = create_agent(\n",
        "    llm,\n",
        "    [write_document, edit_document, read_document],\n",
        "    (\"You are an expert copy editor who focuses on fixing grammar, spelling, and tone issues\\n\"\n",
        "    \"Below are files currently in your directory:\\n{current_files}\"),\n",
        ")\n",
        "context_aware_copy_editor_agent = prelude | copy_editor_agent\n",
        "copy_editing_node = functools.partial(\n",
        "    agent_node, agent=context_aware_copy_editor_agent, name=\"CopyEditor\"\n",
        ")\n",
        "\n",
        "empathy_editor_agent = create_agent(\n",
        "    llm,\n",
        "    [write_document, edit_document, read_document],\n",
        "    (\"You are an expert in empathy, compassion, and understanding - you edit the document to make sure it's empathetic and compassionate.\"\n",
        "    \"Below are files currently in your directory:\\n{current_files}\"),\n",
        ")\n",
        "empathy_editor_agent = prelude | empathy_editor_agent\n",
        "empathy_node = functools.partial(\n",
        "    agent_node, agent=empathy_editor_agent, name=\"EmpathyEditor\"\n",
        ")\n",
        "\n",
        "doc_writing_supervisor = create_team_supervisor(\n",
        "    llm,\n",
        "    (\"You are a supervisor tasked with managing a conversation between the\"\n",
        "    \" following workers: {team_members}. You should always verify the technical\"\n",
        "    \" contents after any edits are made. \"\n",
        "    \"Given the following user request,\"\n",
        "    \" respond with the worker to act next. Each worker will perform a\"\n",
        "    \" task and respond with their results and status. When each team is finished,\"\n",
        "    \" you must respond with FINISH.\"),\n",
        "    [\"DocWriter\", \"NoteTaker\", \"EmpathyEditor\", \"CopyEditor\"],\n",
        ")"
      ]
    },
    {
      "cell_type": "markdown",
      "metadata": {
        "id": "AUiNMpJBGXN0"
      },
      "source": [
        "### Document Writing Team LangGraph Construction\n",
        "\n",
        "This part is almost exactly the same (with a few extra nodes) as our Research Team LangGraph construction - so we'll leave it as one block!"
      ]
    },
    {
      "cell_type": "code",
      "execution_count": 122,
      "metadata": {
        "id": "Q6n8A1ytxVTv"
      },
      "outputs": [],
      "source": [
        "authoring_graph = StateGraph(DocWritingState)\n",
        "authoring_graph.add_node(\"DocWriter\", doc_writing_node)\n",
        "authoring_graph.add_node(\"NoteTaker\", note_taking_node)\n",
        "authoring_graph.add_node(\"CopyEditor\", copy_editing_node)\n",
        "authoring_graph.add_node(\"EmpathyEditor\", empathy_node)\n",
        "authoring_graph.add_node(\"supervisor\", doc_writing_supervisor)\n",
        "\n",
        "authoring_graph.add_edge(\"DocWriter\", \"supervisor\")\n",
        "authoring_graph.add_edge(\"NoteTaker\", \"supervisor\")\n",
        "authoring_graph.add_edge(\"CopyEditor\", \"supervisor\")\n",
        "authoring_graph.add_edge(\"EmpathyEditor\", \"supervisor\")\n",
        "\n",
        "authoring_graph.add_conditional_edges(\n",
        "    \"supervisor\",\n",
        "    lambda x: x[\"next\"],\n",
        "    {\n",
        "        \"DocWriter\": \"DocWriter\",\n",
        "        \"NoteTaker\": \"NoteTaker\",\n",
        "        \"CopyEditor\" : \"CopyEditor\",\n",
        "        \"EmpathyEditor\" : \"EmpathyEditor\",\n",
        "        \"FINISH\": END,\n",
        "    },\n",
        ")\n",
        "\n",
        "authoring_graph.set_entry_point(\"supervisor\")\n",
        "compiled_authoring_graph = authoring_graph.compile()"
      ]
    },
    {
      "cell_type": "markdown",
      "metadata": {
        "id": "Zx-EKGkHKUBO"
      },
      "source": [
        "#### Display Graph"
      ]
    },
    {
      "cell_type": "code",
      "execution_count": 124,
      "metadata": {
        "colab": {
          "base_uri": "https://localhost:8080/",
          "height": 488
        },
        "id": "AZdOb3GZKSM7",
        "outputId": "6b64588d-5568-4234-d062-4dc83ea9abec"
      },
      "outputs": [
        {
          "data": {
            "image/png": "[encoded data removed]",
            "text/plain": [
              "<IPython.core.display.Image object>"
            ]
          },
          "metadata": {},
          "output_type": "display_data"
        }
      ],
      "source": [
        "from IPython.display import Image, display\n",
        "\n",
        "display(\n",
        "    Image(\n",
        "        compiled_authoring_graph.get_graph().draw_mermaid_png(\n",
        "            curve_style=CurveStyle.LINEAR,\n",
        "            node_colors=NodeStyles(first=\"#ffdfba\", last=\"#baffc9\", default=\"#fad7de\"),\n",
        "            wrap_label_n_words=9,\n",
        "            output_file_path=None,\n",
        "            draw_method=MermaidDrawMethod.API,\n",
        "            background_color=\"white\",\n",
        "            padding=10,\n",
        "        )\n",
        "    )\n",
        ")"
      ]
    },
    {
      "cell_type": "markdown",
      "metadata": {
        "id": "yB_rOw1hGpwd"
      },
      "source": [
        "Just as before - we'll need to create an \"interface\" between the level above, and our graph."
      ]
    },
    {
      "cell_type": "code",
      "execution_count": 125,
      "metadata": {
        "id": "G-RbbCKoG_nt"
      },
      "outputs": [],
      "source": [
        "def enter_chain(message: str, members: List[str]):\n",
        "    results = {\n",
        "        \"messages\": [HumanMessage(content=message)],\n",
        "        \"team_members\": \", \".join(members),\n",
        "    }\n",
        "    return results\n",
        "\n",
        "authoring_chain = (\n",
        "    functools.partial(enter_chain, members=authoring_graph.nodes)\n",
        "    | authoring_graph.compile()\n",
        ")"
      ]
    },
    {
      "cell_type": "markdown",
      "metadata": {
        "id": "GgyhpTrRNgQd"
      },
      "source": [
        "Now we can test this out!\n",
        "\n",
        "> NOTE: It is possible you may see an error here - rerun the cell to clear."
      ]
    },
    {
      "cell_type": "code",
      "execution_count": 126,
      "metadata": {
        "colab": {
          "base_uri": "https://localhost:8080/"
        },
        "id": "IWUxv4XDx3kg",
        "outputId": "62ee7d3d-31ba-4348-b852-7fd96f6875ff"
      },
      "outputs": [
        {
          "name": "stdout",
          "output_type": "stream",
          "text": [
            "{'supervisor': {'next': 'DocWriter'}}\n",
            "---\n",
            "{'DocWriter': {'messages': [HumanMessage(content='The response regarding the position of AI bills in the Philippines and their impact on research and development has been successfully drafted and saved as a document. If you need any further modifications or additional information, feel free to let me know!', additional_kwargs={}, response_metadata={}, name='DocWriter')]}}\n",
            "---\n",
            "{'supervisor': {'next': 'NoteTaker'}}\n",
            "---\n",
            "{'NoteTaker': {'messages': [HumanMessage(content=\"Here is the response regarding the position of AI bills in the Philippines and their impact on research and development:\\n\\n---\\n\\n**Response on the Position of AI Bills in the Philippines and Their Impact on AI Research and Development**\\n\\nThe introduction of artificial intelligence (AI) bills in the Philippines marks a significant step towards establishing a regulatory framework that could guide the responsible development and implementation of AI technologies in the country. As AI continues to evolve and permeate various sectors, it is imperative for lawmakers to create policies that not only foster innovation but also address ethical considerations, privacy issues, and the potential impact on the workforce.\\n\\n**Current Status of AI Legislation**\\n\\nThe Philippine government has recognized the importance of AI in driving economic growth, improving public services, and enhancing the competitiveness of various industries. Several proposed AI bills are currently under discussion that aim to promote AI research and development, allocate funding, create standards for AI technologies, and ensure that these technologies are used responsibly. However, as with any budding field, there are challenges to navigate in balancing innovation with regulation.\\n\\n**Impact on Research and Development**\\n\\n1. **Investment and Funding**: Clear regulations and supportive policies can incentivize both local and foreign investments in AI research. This funding can lead to advancements in AI technologies, bolstering the Philippines' position in the global tech landscape.\\n\\n2. **Collaboration with Academia**: Well-crafted AI legislation may also encourage collaborations between government, universities, and private entities, fostering a collaborative ecosystem where innovative ideas can thrive. This partnership can lead to enhanced curriculum development in AI-related fields, preparing the next generation of experts.\\n\\n3. **Ethical Frameworks**: Establishing guidelines and ethical standards as part of the AI legislation can ensure that research and application of AI technologies are conducted responsibly. This can foster public trust in AI, encouraging more widespread adoption and experimentation.\\n\\n4. **Support for Startups**: By providing a supportive legislative environment, new ventures in AI can gain easier access to resources and networks that can help them grow. This can stimulate the entrepreneurial spirit within the local tech industry and create a more vibrant AI startup ecosystem.\\n\\n5. **International Competitiveness**: As more countries innovate in AI, having a robust legal framework can help the Philippines remain competitive. This is crucial as the demand for skilled professionals and innovative solutions continues to rise globally.\\n\\n**Potential Challenges**\\n\\nDespite the potential benefits, there are challenges that need to be addressed to ensure that the AI bills do not stifle innovation. Overregulation could lead to bureaucratic hurdles that may hinder research, experimentation, and the agile development process crucial to technology companies and researchers. Balancing necessary oversight with the flexibility needed for innovation is key.\\n\\n**Conclusion**\\n\\nThe position of AI bills in the Philippines presents both opportunities and challenges for the nation’s AI landscape. By carefully crafting policies that promote responsible innovation, support collaboration, and protect the interests of all stakeholders, the Philippines can harness the transformative power of AI for research and development, ultimately contributing to economic growth and societal advancement. The key will be to maintain an adaptive regulatory framework that meets the dynamic nature of AI technology while fostering a thriving ecosystem for research and development in the country.\\n\\n--- \\n\\nIf you need any modifications or additional information, feel free to reach out!\", additional_kwargs={}, response_metadata={}, name='NoteTaker')]}}\n",
            "---\n",
            "{'supervisor': {'next': 'CopyEditor'}}\n",
            "---\n",
            "{'CopyEditor': {'messages': [HumanMessage(content='The response regarding the position of AI bills in the Philippines and their impact on research and development has been successfully saved as a document titled \"AI_Bills_Philippines_Impact_on_Research_and_Development.txt.\" If you need any further modifications or additional information, feel free to let me know!', additional_kwargs={}, response_metadata={}, name='CopyEditor')]}}\n",
            "---\n",
            "{'supervisor': {'next': 'EmpathyEditor'}}\n",
            "---\n",
            "{'EmpathyEditor': {'messages': [HumanMessage(content='The document regarding the position of AI bills in the Philippines and their impact on research and development has been successfully saved with a compassionate and understanding tone. If you have any further modifications or additional information you would like included, please let me know!', additional_kwargs={}, response_metadata={}, name='EmpathyEditor')]}}\n",
            "---\n",
            "{'supervisor': {'next': 'FINISH'}}\n",
            "---\n"
          ]
        }
      ],
      "source": [
        "for s in authoring_chain.stream(\n",
        "    \"Write a response on the position of AI bills in Philippines and how it can affect the research and development of AI in the country.\",\n",
        "    {\"recursion_limit\": 100},\n",
        "):\n",
        "    if \"__end__\" not in s:\n",
        "        print(s)\n",
        "        print(\"---\")"
      ]
    },
    {
      "cell_type": "markdown",
      "metadata": {
        "id": "zpW2R9SUHGUq"
      },
      "source": [
        "## Task 5: Meta-Supervisor and Full Graph\n",
        "\n",
        "Finally, now that we have our two LangGraph agents (some of which are already multi-agent), we can build a supervisor that sits above all of them!\n",
        "\n",
        "The final process, surprisingly, is quite straight forward!\n",
        "\n",
        "Let's jump in!\n",
        "\n",
        "First off - we'll need to create our supervisor agent node."
      ]
    },
    {
      "cell_type": "code",
      "execution_count": 127,
      "metadata": {
        "id": "wkpxeUf9ygKp"
      },
      "outputs": [],
      "source": [
        "from langchain_core.messages import AIMessage, BaseMessage, HumanMessage\n",
        "from langchain_openai.chat_models import ChatOpenAI\n",
        "\n",
        "llm = ChatOpenAI(model=\"gpt-4o-mini\")\n",
        "\n",
        "supervisor_node = create_team_supervisor(\n",
        "    llm,\n",
        "    \"You are a supervisor tasked with managing a conversation between the\"\n",
        "    \" following teams: {team_members}. Given the following user request,\"\n",
        "    \" respond with the worker to act next. Each worker will perform a\"\n",
        "    \" task and respond with their results and status. When all workers are finished,\"\n",
        "    \" you must respond with FINISH.\",\n",
        "    [\"Research team\", \"Response team\"],\n",
        ")"
      ]
    },
    {
      "cell_type": "markdown",
      "metadata": {
        "id": "hUvOh_xWIKig"
      },
      "source": [
        "We'll also create our new state - as well as some methods to help us navigate the new state and the subgraphs.\n",
        "\n",
        "> NOTE: We only pass the most recent message from the parent graph to the subgraph, and we only extract the most recent message from the subgraph to include in the state of the parent graph."
      ]
    },
    {
      "cell_type": "code",
      "execution_count": 128,
      "metadata": {
        "id": "O7HJ8MF0yh_i"
      },
      "outputs": [],
      "source": [
        "class State(TypedDict):\n",
        "    messages: Annotated[List[BaseMessage], operator.add]\n",
        "    next: str\n",
        "\n",
        "def get_last_message(state: State) -> str:\n",
        "    return state[\"messages\"][-1].content\n",
        "\n",
        "def join_graph(response: dict):\n",
        "    return {\"messages\": [response[\"messages\"][-1]]}"
      ]
    },
    {
      "cell_type": "markdown",
      "metadata": {
        "id": "B5RHao1sIanG"
      },
      "source": [
        "Next, we'll create our base graph.\n",
        "\n",
        "Notice how each node we're adding is *AN ENTIRE LANGGRAPH AGENT* (wrapped into an LCEL chain with our helper functions above)."
      ]
    },
    {
      "cell_type": "code",
      "execution_count": 129,
      "metadata": {
        "id": "PfCWABCMIaFy"
      },
      "outputs": [
        {
          "data": {
            "text/plain": [
              "<langgraph.graph.state.StateGraph at 0x2c60a44ded0>"
            ]
          },
          "execution_count": 129,
          "metadata": {},
          "output_type": "execute_result"
        }
      ],
      "source": [
        "super_graph = StateGraph(State)\n",
        "\n",
        "super_graph.add_node(\"Research team\", get_last_message | research_chain | join_graph)\n",
        "super_graph.add_node(\"Response team\", get_last_message | authoring_chain | join_graph)\n",
        "super_graph.add_node(\"supervisor\", supervisor_node)"
      ]
    },
    {
      "cell_type": "markdown",
      "metadata": {
        "id": "dpwpUXMtI62E"
      },
      "source": [
        "Next, we'll create our edges!\n",
        "\n",
        "This process is completely idenctical to what we've seen before - just addressing the LangGraph subgraph nodes instead of individual nodes."
      ]
    },
    {
      "cell_type": "code",
      "execution_count": 130,
      "metadata": {
        "id": "tLtjRuUYI-fx"
      },
      "outputs": [],
      "source": [
        "super_graph.add_edge(\"Research team\", \"supervisor\")\n",
        "super_graph.add_edge(\"Response team\", \"supervisor\")\n",
        "super_graph.add_conditional_edges(\n",
        "    \"supervisor\",\n",
        "    lambda x: x[\"next\"],\n",
        "    {\n",
        "        \"Response team\": \"Response team\",\n",
        "        \"Research team\": \"Research team\",\n",
        "        \"FINISH\": END,\n",
        "    },\n",
        ")\n",
        "super_graph.set_entry_point(\"supervisor\")\n",
        "compiled_super_graph = super_graph.compile()"
      ]
    },
    {
      "cell_type": "markdown",
      "metadata": {
        "id": "K1KMfFqgJKw8"
      },
      "source": [
        "That's it!\n",
        "\n",
        "Now we can finally use our full agent!"
      ]
    },
    {
      "cell_type": "code",
      "execution_count": 138,
      "metadata": {
        "colab": {
          "base_uri": "https://localhost:8080/"
        },
        "id": "3M6wUDR-yk8s",
        "outputId": "056fe89e-5a81-4852-f0cb-35367da8cef0"
      },
      "outputs": [
        {
          "name": "stdout",
          "output_type": "stream",
          "text": [
            "{'supervisor': {'next': 'Research team'}}\n",
            "---\n",
            "{'Research team': {'messages': [HumanMessage(content=\"**Statement on the Positioning of AI Bills in the Philippines: Impact of Penalties and the Feasibility of an AI Applications Directory**\\n\\nThe Republic of the Philippines is witnessing a surge in legislative efforts to regulate artificial intelligence (AI) technologies, highlighted by multiple bills aimed at ensuring ethical development and deployment. Notably, Senator Pia Cayetano's proposed bill establishes significant penalties for unethical AI conduct, ranging from fines of Php 500,000 to Php 10 million and imprisonment for various terms depending on the severity of the violation, including disseminating disinformation and deploying unregistered AI systems.\\n\\nA key aspect of these legislative initiatives is the creation of regulatory frameworks that would mandate the registration of AI systems and the maintenance of a comprehensive directory of AI applications and developers. While compiling a directory may enhance transparency and compliance, it poses a critical question: will it expedite or hinder innovation? \\n\\nGlobally, various countries have approached AI regulation with differing strategies. For example, the European Union's AI Act emphasizes the risk-based categorization of AI systems, holding developers accountable and allowing for flexibility in compliance. Meanwhile, the United States has approached AI regulation more loosely, focusing on industry self-regulation while pushing for ethical guidelines. In contrast, the Philippines' proposed directory could potentially introduce bureaucratic hurdles that slow down R&D and implementation, particularly for startups and smaller firms that lack the resources for compliance.\\n\\nConcerns about the one-size-fits-all nature of directories must also be addressed. Implementing a centralized database requires robust infrastructure and continuous updates, which could prove daunting and resource-intensive. Furthermore, the slow pace of bureaucratic processes may stifle the rapid advancements typical of AI technology, impacting the country's global competitiveness.\\n\\nLastly, the existing global landscape illustrates a variety of methodologies to foster responsible AI use while promoting innovation. As the Philippines navigates these regulations, finding a balance between robust oversight, ethical responsibility, and the dynamic needs of the AI sector will be crucial for fostering a thriving environment for research and development.\\n\\nIn conclusion, while the regulation of AI through penalties and directories has its merits in establishing accountability and ethical standards, care must be taken to ensure these measures do not inadvertently stifle the very innovation they aim to regulate. Future legislative efforts should consider flexible approaches that allow for growth while implementing necessary safeguards. \\n\\n**Implementation Strategy and Considerations**\\nTo ensure effective implementation of AI regulations, a gradual approach should be considered:\\n- Create a pilot directory for voluntary registration before mandating compliance.\\n- Foster public-private partnerships to support compliance and infrastructure development.\\n- Regularly review and recalibrate penalties and directory requirements to avoid stifling innovation.\\n- Engage with industry stakeholders to build consensus and understanding of the regulatory framework.\\n\\nThis statement highlights the current scenario of AI legislation in the Philippines, informed by global comparisons and critical insights into the balance between regulation and innovation. Further consultation with experts in AI law and technology development will refine these observations. \\n\\n[Note: This document has been structured and adjusted for clarity and precision in conveying the impact of proposed AI bills in the Philippines.]\", additional_kwargs={}, response_metadata={}, name='BillRetriever')]}}\n",
            "---\n",
            "{'supervisor': {'next': 'Response team'}}\n",
            "---\n",
            "{'Response team': {'messages': [HumanMessage(content='The statement on the positioning of AI bills in the Philippines has been successfully saved and structured with clarity in the document titled \"AI_Legislation_Philippines_Impact_Statement.outline.\" This document effectively addresses the impact of proposed legislation, implications of penalties, and considerations for a comprehensive AI applications directory, while emphasizing the importance of balancing regulation with innovation.', additional_kwargs={}, response_metadata={}, name='CopyEditor')]}}\n",
            "---\n",
            "{'supervisor': {'next': 'Response team'}}\n",
            "---\n",
            "{'Response team': {'messages': [HumanMessage(content='The document \"AI_Legislation_Philippines_Impact_Statement.outline\" has been carefully revised to enhance its empathetic and compassionate tone throughout. Each section now reflects an understanding of the human impact of AI legislation and emphasizes the collective responsibility of stakeholders in this rapidly evolving field. The revised content is set to support a constructive conversation around AI legislation in the Philippines.', additional_kwargs={}, response_metadata={}, name='CopyEditor')]}}\n",
            "---\n",
            "{'supervisor': {'next': 'FINISH'}}\n",
            "---\n"
          ]
        }
      ],
      "source": [
        "WORKING_DIRECTORY = Path(create_random_subdirectory())\n",
        "\n",
        "for s in compiled_super_graph.stream(\n",
        "    {\n",
        "        \"messages\": [\n",
        "            HumanMessage(\n",
        "                content=\"Write a statement on the positioning of AI bills in Philippines as it relates to impact of penalties and listing of directories to AI research anddevelopment in the country. Is it feasible to implement a directory of all AI applications or will it slow down progress? Conduct research against global AI bills and how other countries are handling AI bills. Then make sure you consult the response team, and check for copy editing and dopeness, and write the file to disk.\"\n",
        "            )\n",
        "        ],\n",
        "    },\n",
        "    {\"recursion_limit\": 30},\n",
        "):\n",
        "    if \"__end__\" not in s:\n",
        "        print(s)\n",
        "        print(\"---\")"
      ]
    },
    {
      "cell_type": "markdown",
      "metadata": {
        "id": "PuZAvSlJJpPP"
      },
      "source": [
        "## SAMPLE POST!"
      ]
    },
    {
      "cell_type": "markdown",
      "metadata": {
        "id": "lOEMCrXTJaxW"
      },
      "source": [
        "The regulatory landscape for artificial intelligence (AI) in the Philippines is undergoing significant evolution through the introduction of several bills designed to manage the development and implementation of AI technologies. These proposed legislations highlight the government’s awareness of AI's potential to profoundly enhance various sectors, including public services, disaster resilience, agriculture, education, and healthcare.  \n",
        "\n",
        "For AI developers, these bills offer a framework that aims to balance technological innovation with ethical considerations and public safety. The regulations stress the importance of transparency, accountability, and human oversight in AI development, serving as safeguards against inherent risks such as algorithmic bias and misinformation. Notably, the legislation draws inspiration from global standards, such as the European Union's AI Act, advocating for a regulatory approach that promotes responsible AI innovation without hindering creativity and progress.  \n",
        "\n",
        "Moreover, the bills establish the state as a protector of citizens' rights, ensuring that AI is developed and utilized in ways that minimize harm and prevent abuse. By setting forth these guidelines, the legislation aspires to cultivate an environment that supports the creativity and ingenuity of Filipino developers while aligning with global best practices.  \n",
        "\n",
        "In conclusion, the proposed AI bills in the Philippines represent a commitment to fostering a responsible, ethical, and forward-thinking approach to artificial intelligence. This dual focus on innovation and regulation is vital for encouraging development while safeguarding the well-being of the population and society as a whole."
      ]
    }
  ],
  "metadata": {
    "colab": {
      "provenance": []
    },
    "kernelspec": {
      "display_name": ".venv",
      "language": "python",
      "name": "python3"
    },
    "language_info": {
      "codemirror_mode": {
        "name": "ipython",
        "version": 3
      },
      "file_extension": ".py",
      "mimetype": "text/x-python",
      "name": "python",
      "nbconvert_exporter": "python",
      "pygments_lexer": "ipython3",
      "version": "3.11.13"
    }
  },
  "nbformat": 4,
  "nbformat_minor": 0
}
